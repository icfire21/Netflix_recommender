{
 "cells": [
  {
   "cell_type": "markdown",
   "metadata": {},
   "source": [
    "## Importing Libraries"
   ]
  },
  {
   "cell_type": "code",
   "execution_count": 159,
   "metadata": {},
   "outputs": [],
   "source": [
    "import numpy as np\n",
    "import pandas as pd\n",
    "import matplotlib.pyplot as plt\n",
    "import seaborn as sns\n",
    "import re\n",
    "from sklearn.metrics.pairwise import linear_kernel,sigmoid_kernel\n",
    "from sklearn.feature_extraction.text import TfidfVectorizer\n",
    "%matplotlib inline"
   ]
  },
  {
   "cell_type": "markdown",
   "metadata": {},
   "source": [
    "## Importing Dataset"
   ]
  },
  {
   "cell_type": "code",
   "execution_count": 2,
   "metadata": {},
   "outputs": [],
   "source": [
    "netflix = pd.read_csv('netflix_titles.csv')"
   ]
  },
  {
   "cell_type": "code",
   "execution_count": 4,
   "metadata": {},
   "outputs": [
    {
     "data": {
      "text/html": [
       "<div>\n",
       "<style scoped>\n",
       "    .dataframe tbody tr th:only-of-type {\n",
       "        vertical-align: middle;\n",
       "    }\n",
       "\n",
       "    .dataframe tbody tr th {\n",
       "        vertical-align: top;\n",
       "    }\n",
       "\n",
       "    .dataframe thead th {\n",
       "        text-align: right;\n",
       "    }\n",
       "</style>\n",
       "<table border=\"1\" class=\"dataframe\">\n",
       "  <thead>\n",
       "    <tr style=\"text-align: right;\">\n",
       "      <th></th>\n",
       "      <th>show_id</th>\n",
       "      <th>type</th>\n",
       "      <th>title</th>\n",
       "      <th>director</th>\n",
       "      <th>cast</th>\n",
       "      <th>country</th>\n",
       "      <th>date_added</th>\n",
       "      <th>release_year</th>\n",
       "      <th>rating</th>\n",
       "      <th>duration</th>\n",
       "      <th>listed_in</th>\n",
       "      <th>description</th>\n",
       "    </tr>\n",
       "  </thead>\n",
       "  <tbody>\n",
       "    <tr>\n",
       "      <th>0</th>\n",
       "      <td>s1</td>\n",
       "      <td>TV Show</td>\n",
       "      <td>3%</td>\n",
       "      <td>NaN</td>\n",
       "      <td>João Miguel, Bianca Comparato, Michel Gomes, R...</td>\n",
       "      <td>Brazil</td>\n",
       "      <td>August 14, 2020</td>\n",
       "      <td>2020</td>\n",
       "      <td>TV-MA</td>\n",
       "      <td>4 Seasons</td>\n",
       "      <td>International TV Shows, TV Dramas, TV Sci-Fi &amp;...</td>\n",
       "      <td>In a future where the elite inhabit an island ...</td>\n",
       "    </tr>\n",
       "    <tr>\n",
       "      <th>1</th>\n",
       "      <td>s2</td>\n",
       "      <td>Movie</td>\n",
       "      <td>7:19</td>\n",
       "      <td>Jorge Michel Grau</td>\n",
       "      <td>Demián Bichir, Héctor Bonilla, Oscar Serrano, ...</td>\n",
       "      <td>Mexico</td>\n",
       "      <td>December 23, 2016</td>\n",
       "      <td>2016</td>\n",
       "      <td>TV-MA</td>\n",
       "      <td>93 min</td>\n",
       "      <td>Dramas, International Movies</td>\n",
       "      <td>After a devastating earthquake hits Mexico Cit...</td>\n",
       "    </tr>\n",
       "    <tr>\n",
       "      <th>2</th>\n",
       "      <td>s3</td>\n",
       "      <td>Movie</td>\n",
       "      <td>23:59</td>\n",
       "      <td>Gilbert Chan</td>\n",
       "      <td>Tedd Chan, Stella Chung, Henley Hii, Lawrence ...</td>\n",
       "      <td>Singapore</td>\n",
       "      <td>December 20, 2018</td>\n",
       "      <td>2011</td>\n",
       "      <td>R</td>\n",
       "      <td>78 min</td>\n",
       "      <td>Horror Movies, International Movies</td>\n",
       "      <td>When an army recruit is found dead, his fellow...</td>\n",
       "    </tr>\n",
       "    <tr>\n",
       "      <th>3</th>\n",
       "      <td>s4</td>\n",
       "      <td>Movie</td>\n",
       "      <td>9</td>\n",
       "      <td>Shane Acker</td>\n",
       "      <td>Elijah Wood, John C. Reilly, Jennifer Connelly...</td>\n",
       "      <td>United States</td>\n",
       "      <td>November 16, 2017</td>\n",
       "      <td>2009</td>\n",
       "      <td>PG-13</td>\n",
       "      <td>80 min</td>\n",
       "      <td>Action &amp; Adventure, Independent Movies, Sci-Fi...</td>\n",
       "      <td>In a postapocalyptic world, rag-doll robots hi...</td>\n",
       "    </tr>\n",
       "    <tr>\n",
       "      <th>4</th>\n",
       "      <td>s5</td>\n",
       "      <td>Movie</td>\n",
       "      <td>21</td>\n",
       "      <td>Robert Luketic</td>\n",
       "      <td>Jim Sturgess, Kevin Spacey, Kate Bosworth, Aar...</td>\n",
       "      <td>United States</td>\n",
       "      <td>January 1, 2020</td>\n",
       "      <td>2008</td>\n",
       "      <td>PG-13</td>\n",
       "      <td>123 min</td>\n",
       "      <td>Dramas</td>\n",
       "      <td>A brilliant group of students become card-coun...</td>\n",
       "    </tr>\n",
       "  </tbody>\n",
       "</table>\n",
       "</div>"
      ],
      "text/plain": [
       "  show_id     type  title           director  \\\n",
       "0      s1  TV Show     3%                NaN   \n",
       "1      s2    Movie   7:19  Jorge Michel Grau   \n",
       "2      s3    Movie  23:59       Gilbert Chan   \n",
       "3      s4    Movie      9        Shane Acker   \n",
       "4      s5    Movie     21     Robert Luketic   \n",
       "\n",
       "                                                cast        country  \\\n",
       "0  João Miguel, Bianca Comparato, Michel Gomes, R...         Brazil   \n",
       "1  Demián Bichir, Héctor Bonilla, Oscar Serrano, ...         Mexico   \n",
       "2  Tedd Chan, Stella Chung, Henley Hii, Lawrence ...      Singapore   \n",
       "3  Elijah Wood, John C. Reilly, Jennifer Connelly...  United States   \n",
       "4  Jim Sturgess, Kevin Spacey, Kate Bosworth, Aar...  United States   \n",
       "\n",
       "          date_added  release_year rating   duration  \\\n",
       "0    August 14, 2020          2020  TV-MA  4 Seasons   \n",
       "1  December 23, 2016          2016  TV-MA     93 min   \n",
       "2  December 20, 2018          2011      R     78 min   \n",
       "3  November 16, 2017          2009  PG-13     80 min   \n",
       "4    January 1, 2020          2008  PG-13    123 min   \n",
       "\n",
       "                                           listed_in  \\\n",
       "0  International TV Shows, TV Dramas, TV Sci-Fi &...   \n",
       "1                       Dramas, International Movies   \n",
       "2                Horror Movies, International Movies   \n",
       "3  Action & Adventure, Independent Movies, Sci-Fi...   \n",
       "4                                             Dramas   \n",
       "\n",
       "                                         description  \n",
       "0  In a future where the elite inhabit an island ...  \n",
       "1  After a devastating earthquake hits Mexico Cit...  \n",
       "2  When an army recruit is found dead, his fellow...  \n",
       "3  In a postapocalyptic world, rag-doll robots hi...  \n",
       "4  A brilliant group of students become card-coun...  "
      ]
     },
     "execution_count": 4,
     "metadata": {},
     "output_type": "execute_result"
    }
   ],
   "source": [
    "netflix.head()"
   ]
  },
  {
   "cell_type": "markdown",
   "metadata": {},
   "source": [
    "## Data Overview"
   ]
  },
  {
   "cell_type": "code",
   "execution_count": 5,
   "metadata": {},
   "outputs": [
    {
     "name": "stdout",
     "output_type": "stream",
     "text": [
      "<class 'pandas.core.frame.DataFrame'>\n",
      "RangeIndex: 7787 entries, 0 to 7786\n",
      "Data columns (total 12 columns):\n",
      " #   Column        Non-Null Count  Dtype \n",
      "---  ------        --------------  ----- \n",
      " 0   show_id       7787 non-null   object\n",
      " 1   type          7787 non-null   object\n",
      " 2   title         7787 non-null   object\n",
      " 3   director      5398 non-null   object\n",
      " 4   cast          7069 non-null   object\n",
      " 5   country       7280 non-null   object\n",
      " 6   date_added    7777 non-null   object\n",
      " 7   release_year  7787 non-null   int64 \n",
      " 8   rating        7780 non-null   object\n",
      " 9   duration      7787 non-null   object\n",
      " 10  listed_in     7787 non-null   object\n",
      " 11  description   7787 non-null   object\n",
      "dtypes: int64(1), object(11)\n",
      "memory usage: 730.2+ KB\n"
     ]
    }
   ],
   "source": [
    "netflix.info()"
   ]
  },
  {
   "cell_type": "code",
   "execution_count": 6,
   "metadata": {},
   "outputs": [
    {
     "data": {
      "text/html": [
       "<div>\n",
       "<style scoped>\n",
       "    .dataframe tbody tr th:only-of-type {\n",
       "        vertical-align: middle;\n",
       "    }\n",
       "\n",
       "    .dataframe tbody tr th {\n",
       "        vertical-align: top;\n",
       "    }\n",
       "\n",
       "    .dataframe thead th {\n",
       "        text-align: right;\n",
       "    }\n",
       "</style>\n",
       "<table border=\"1\" class=\"dataframe\">\n",
       "  <thead>\n",
       "    <tr style=\"text-align: right;\">\n",
       "      <th></th>\n",
       "      <th>release_year</th>\n",
       "    </tr>\n",
       "  </thead>\n",
       "  <tbody>\n",
       "    <tr>\n",
       "      <th>count</th>\n",
       "      <td>7787.000000</td>\n",
       "    </tr>\n",
       "    <tr>\n",
       "      <th>mean</th>\n",
       "      <td>2013.932580</td>\n",
       "    </tr>\n",
       "    <tr>\n",
       "      <th>std</th>\n",
       "      <td>8.757395</td>\n",
       "    </tr>\n",
       "    <tr>\n",
       "      <th>min</th>\n",
       "      <td>1925.000000</td>\n",
       "    </tr>\n",
       "    <tr>\n",
       "      <th>25%</th>\n",
       "      <td>2013.000000</td>\n",
       "    </tr>\n",
       "    <tr>\n",
       "      <th>50%</th>\n",
       "      <td>2017.000000</td>\n",
       "    </tr>\n",
       "    <tr>\n",
       "      <th>75%</th>\n",
       "      <td>2018.000000</td>\n",
       "    </tr>\n",
       "    <tr>\n",
       "      <th>max</th>\n",
       "      <td>2021.000000</td>\n",
       "    </tr>\n",
       "  </tbody>\n",
       "</table>\n",
       "</div>"
      ],
      "text/plain": [
       "       release_year\n",
       "count   7787.000000\n",
       "mean    2013.932580\n",
       "std        8.757395\n",
       "min     1925.000000\n",
       "25%     2013.000000\n",
       "50%     2017.000000\n",
       "75%     2018.000000\n",
       "max     2021.000000"
      ]
     },
     "execution_count": 6,
     "metadata": {},
     "output_type": "execute_result"
    }
   ],
   "source": [
    "netflix.describe()"
   ]
  },
  {
   "cell_type": "code",
   "execution_count": 7,
   "metadata": {},
   "outputs": [
    {
     "data": {
      "text/plain": [
       "show_id         7787\n",
       "type               2\n",
       "title           7787\n",
       "director        4049\n",
       "cast            6831\n",
       "country          681\n",
       "date_added      1565\n",
       "release_year      73\n",
       "rating            14\n",
       "duration         216\n",
       "listed_in        492\n",
       "description     7769\n",
       "dtype: int64"
      ]
     },
     "execution_count": 7,
     "metadata": {},
     "output_type": "execute_result"
    }
   ],
   "source": [
    "netflix.nunique()"
   ]
  },
  {
   "cell_type": "code",
   "execution_count": 8,
   "metadata": {},
   "outputs": [
    {
     "data": {
      "text/plain": [
       "Movie      5377\n",
       "TV Show    2410\n",
       "Name: type, dtype: int64"
      ]
     },
     "execution_count": 8,
     "metadata": {},
     "output_type": "execute_result"
    }
   ],
   "source": [
    "netflix['type'].value_counts()"
   ]
  },
  {
   "cell_type": "code",
   "execution_count": 9,
   "metadata": {},
   "outputs": [
    {
     "data": {
      "text/plain": [
       "Raúl Campos, Jan Suter    18\n",
       "Marcus Raboy              16\n",
       "Jay Karas                 14\n",
       "Cathy Garcia-Molina       13\n",
       "Martin Scorsese           12\n",
       "                          ..\n",
       "Felix Chong                1\n",
       "Ali Yorgancıoğlu           1\n",
       "Matt Kay                   1\n",
       "Prakash Balwant Saini      1\n",
       "Honey Trehan               1\n",
       "Name: director, Length: 4049, dtype: int64"
      ]
     },
     "execution_count": 9,
     "metadata": {},
     "output_type": "execute_result"
    }
   ],
   "source": [
    "netflix['director'].value_counts()"
   ]
  },
  {
   "cell_type": "markdown",
   "metadata": {},
   "source": [
    "## Data Cleaning and Manipulation"
   ]
  },
  {
   "cell_type": "code",
   "execution_count": null,
   "metadata": {},
   "outputs": [],
   "source": [
    "netflix[\"date_added\"]=pd.to_datetime(netflix[\"date_added\"])\n",
    "netflix[\"year_added\"]=netflix[\"date_added\"].dt.year\n",
    "netflix[\"month_added\"]=netflix[\"date_added\"].dt.month"
   ]
  },
  {
   "cell_type": "code",
   "execution_count": 140,
   "metadata": {},
   "outputs": [
    {
     "data": {
      "text/plain": [
       "0       João Miguel, Bianca Comparato, Michel Gomes, R...\n",
       "1       Demián Bichir, Héctor Bonilla, Oscar Serrano, ...\n",
       "2       Tedd Chan, Stella Chung, Henley Hii, Lawrence ...\n",
       "3       Elijah Wood, John C. Reilly, Jennifer Connelly...\n",
       "4       Jim Sturgess, Kevin Spacey, Kate Bosworth, Aar...\n",
       "                              ...                        \n",
       "7782    Imad Creidi, Antoinette Turk, Elias Gergi, Car...\n",
       "7783    Vicky Kaushal, Sarah-Jane Dias, Raaghav Chanan...\n",
       "7784                                              Nasty C\n",
       "7785                           Adriano Zumbo, Rachel Khoo\n",
       "7786                                              No Data\n",
       "Name: cast, Length: 7787, dtype: object"
      ]
     },
     "execution_count": 140,
     "metadata": {},
     "output_type": "execute_result"
    }
   ],
   "source": [
    "netflix['cast'].replace(np.nan, 'No Data',inplace = True)\n",
    "netflix['cast']"
   ]
  },
  {
   "cell_type": "code",
   "execution_count": 12,
   "metadata": {},
   "outputs": [],
   "source": [
    "#eTokenizing the ratings and mapping them whether they are rated for kids or adults\n",
    "netflix[\"rating_score\"]=netflix[\"rating\"].map({\"TV-Y\":0,\"UR\":0,\"NR\":0,\"TV-Y7\":1,\"TV-Y7-FV\":2,\"TV-G\":3,\n",
    "                                               \"G\":3,\"TV-PG\":4,\"PG\":4,\"TV-14\":5,\"PG-13\":5,\"R\":6,\"TV-MA\":7,\"NC-17\":7})\n",
    "netflix[\"ratings_sensitivity\"]=np.where(np.isin(netflix[\"rating_score\"],[0,1,2]),\"kids\",\"adults\")"
   ]
  },
  {
   "cell_type": "code",
   "execution_count": 13,
   "metadata": {},
   "outputs": [
    {
     "data": {
      "text/plain": [
       "0       7.0\n",
       "1       7.0\n",
       "2       6.0\n",
       "3       5.0\n",
       "4       5.0\n",
       "       ... \n",
       "7782    7.0\n",
       "7783    5.0\n",
       "7784    7.0\n",
       "7785    4.0\n",
       "7786    7.0\n",
       "Name: rating_score, Length: 7787, dtype: float64"
      ]
     },
     "execution_count": 13,
     "metadata": {},
     "output_type": "execute_result"
    }
   ],
   "source": [
    "netflix[\"rating_score\"]"
   ]
  },
  {
   "cell_type": "code",
   "execution_count": 14,
   "metadata": {},
   "outputs": [
    {
     "data": {
      "text/plain": [
       "0       adults\n",
       "1       adults\n",
       "2       adults\n",
       "3       adults\n",
       "4       adults\n",
       "         ...  \n",
       "7782    adults\n",
       "7783    adults\n",
       "7784    adults\n",
       "7785    adults\n",
       "7786    adults\n",
       "Name: ratings_sensitivity, Length: 7787, dtype: object"
      ]
     },
     "execution_count": 14,
     "metadata": {},
     "output_type": "execute_result"
    }
   ],
   "source": [
    "netflix[\"ratings_sensitivity\"]"
   ]
  },
  {
   "cell_type": "code",
   "execution_count": 15,
   "metadata": {},
   "outputs": [
    {
     "data": {
      "text/plain": [
       "2019.0    2153\n",
       "2020.0    2009\n",
       "2018.0    1685\n",
       "2017.0    1225\n",
       "2016.0     443\n",
       "2021.0     117\n",
       "2015.0      88\n",
       "2014.0      25\n",
       "2011.0      13\n",
       "2013.0      11\n",
       "2012.0       3\n",
       "2009.0       2\n",
       "2008.0       2\n",
       "2010.0       1\n",
       "Name: year_added, dtype: int64"
      ]
     },
     "execution_count": 15,
     "metadata": {},
     "output_type": "execute_result"
    }
   ],
   "source": [
    "netflix['year_added'].value_counts()"
   ]
  },
  {
   "cell_type": "code",
   "execution_count": 141,
   "metadata": {},
   "outputs": [
    {
     "data": {
      "text/html": [
       "<div>\n",
       "<style scoped>\n",
       "    .dataframe tbody tr th:only-of-type {\n",
       "        vertical-align: middle;\n",
       "    }\n",
       "\n",
       "    .dataframe tbody tr th {\n",
       "        vertical-align: top;\n",
       "    }\n",
       "\n",
       "    .dataframe thead th {\n",
       "        text-align: right;\n",
       "    }\n",
       "</style>\n",
       "<table border=\"1\" class=\"dataframe\">\n",
       "  <thead>\n",
       "    <tr style=\"text-align: right;\">\n",
       "      <th></th>\n",
       "      <th>show_id</th>\n",
       "      <th>type</th>\n",
       "      <th>title</th>\n",
       "      <th>director</th>\n",
       "      <th>cast</th>\n",
       "      <th>country</th>\n",
       "      <th>date_added</th>\n",
       "      <th>release_year</th>\n",
       "      <th>rating</th>\n",
       "      <th>duration</th>\n",
       "      <th>listed_in</th>\n",
       "      <th>description</th>\n",
       "      <th>combined</th>\n",
       "    </tr>\n",
       "  </thead>\n",
       "  <tbody>\n",
       "    <tr>\n",
       "      <th>0</th>\n",
       "      <td>s1</td>\n",
       "      <td>TV Show</td>\n",
       "      <td>3%</td>\n",
       "      <td></td>\n",
       "      <td>João Miguel, Bianca Comparato, Michel Gomes, R...</td>\n",
       "      <td>Brazil</td>\n",
       "      <td>August 14, 2020</td>\n",
       "      <td>2020</td>\n",
       "      <td>TV-MA</td>\n",
       "      <td>4 Seasons</td>\n",
       "      <td>International TV Shows, TV Dramas, TV Sci-Fi &amp;...</td>\n",
       "      <td>In a future where the elite inhabit an island ...</td>\n",
       "      <td>In a future where the elite inhabit an island ...</td>\n",
       "    </tr>\n",
       "    <tr>\n",
       "      <th>1</th>\n",
       "      <td>s2</td>\n",
       "      <td>Movie</td>\n",
       "      <td>7:19</td>\n",
       "      <td>Jorge Michel Grau</td>\n",
       "      <td>Demián Bichir, Héctor Bonilla, Oscar Serrano, ...</td>\n",
       "      <td>Mexico</td>\n",
       "      <td>December 23, 2016</td>\n",
       "      <td>2016</td>\n",
       "      <td>TV-MA</td>\n",
       "      <td>93 min</td>\n",
       "      <td>Dramas, International Movies</td>\n",
       "      <td>After a devastating earthquake hits Mexico Cit...</td>\n",
       "      <td>After a devastating earthquake hits Mexico Cit...</td>\n",
       "    </tr>\n",
       "    <tr>\n",
       "      <th>2</th>\n",
       "      <td>s3</td>\n",
       "      <td>Movie</td>\n",
       "      <td>23:59</td>\n",
       "      <td>Gilbert Chan</td>\n",
       "      <td>Tedd Chan, Stella Chung, Henley Hii, Lawrence ...</td>\n",
       "      <td>Singapore</td>\n",
       "      <td>December 20, 2018</td>\n",
       "      <td>2011</td>\n",
       "      <td>R</td>\n",
       "      <td>78 min</td>\n",
       "      <td>Horror Movies, International Movies</td>\n",
       "      <td>When an army recruit is found dead, his fellow...</td>\n",
       "      <td>When an army recruit is found dead, his fellow...</td>\n",
       "    </tr>\n",
       "    <tr>\n",
       "      <th>3</th>\n",
       "      <td>s4</td>\n",
       "      <td>Movie</td>\n",
       "      <td>9</td>\n",
       "      <td>Shane Acker</td>\n",
       "      <td>Elijah Wood, John C. Reilly, Jennifer Connelly...</td>\n",
       "      <td>United States</td>\n",
       "      <td>November 16, 2017</td>\n",
       "      <td>2009</td>\n",
       "      <td>PG-13</td>\n",
       "      <td>80 min</td>\n",
       "      <td>Action &amp; Adventure, Independent Movies, Sci-Fi...</td>\n",
       "      <td>In a postapocalyptic world, rag-doll robots hi...</td>\n",
       "      <td>In a postapocalyptic world, rag-doll robots hi...</td>\n",
       "    </tr>\n",
       "    <tr>\n",
       "      <th>4</th>\n",
       "      <td>s5</td>\n",
       "      <td>Movie</td>\n",
       "      <td>21</td>\n",
       "      <td>Robert Luketic</td>\n",
       "      <td>Jim Sturgess, Kevin Spacey, Kate Bosworth, Aar...</td>\n",
       "      <td>United States</td>\n",
       "      <td>January 1, 2020</td>\n",
       "      <td>2008</td>\n",
       "      <td>PG-13</td>\n",
       "      <td>123 min</td>\n",
       "      <td>Dramas</td>\n",
       "      <td>A brilliant group of students become card-coun...</td>\n",
       "      <td>A brilliant group of students become card-coun...</td>\n",
       "    </tr>\n",
       "  </tbody>\n",
       "</table>\n",
       "</div>"
      ],
      "text/plain": [
       "  show_id     type  title           director  \\\n",
       "0      s1  TV Show     3%                      \n",
       "1      s2    Movie   7:19  Jorge Michel Grau   \n",
       "2      s3    Movie  23:59       Gilbert Chan   \n",
       "3      s4    Movie      9        Shane Acker   \n",
       "4      s5    Movie     21     Robert Luketic   \n",
       "\n",
       "                                                cast        country  \\\n",
       "0  João Miguel, Bianca Comparato, Michel Gomes, R...         Brazil   \n",
       "1  Demián Bichir, Héctor Bonilla, Oscar Serrano, ...         Mexico   \n",
       "2  Tedd Chan, Stella Chung, Henley Hii, Lawrence ...      Singapore   \n",
       "3  Elijah Wood, John C. Reilly, Jennifer Connelly...  United States   \n",
       "4  Jim Sturgess, Kevin Spacey, Kate Bosworth, Aar...  United States   \n",
       "\n",
       "          date_added  release_year rating   duration  \\\n",
       "0    August 14, 2020          2020  TV-MA  4 Seasons   \n",
       "1  December 23, 2016          2016  TV-MA     93 min   \n",
       "2  December 20, 2018          2011      R     78 min   \n",
       "3  November 16, 2017          2009  PG-13     80 min   \n",
       "4    January 1, 2020          2008  PG-13    123 min   \n",
       "\n",
       "                                           listed_in  \\\n",
       "0  International TV Shows, TV Dramas, TV Sci-Fi &...   \n",
       "1                       Dramas, International Movies   \n",
       "2                Horror Movies, International Movies   \n",
       "3  Action & Adventure, Independent Movies, Sci-Fi...   \n",
       "4                                             Dramas   \n",
       "\n",
       "                                         description  \\\n",
       "0  In a future where the elite inhabit an island ...   \n",
       "1  After a devastating earthquake hits Mexico Cit...   \n",
       "2  When an army recruit is found dead, his fellow...   \n",
       "3  In a postapocalyptic world, rag-doll robots hi...   \n",
       "4  A brilliant group of students become card-coun...   \n",
       "\n",
       "                                            combined  \n",
       "0  In a future where the elite inhabit an island ...  \n",
       "1  After a devastating earthquake hits Mexico Cit...  \n",
       "2  When an army recruit is found dead, his fellow...  \n",
       "3  In a postapocalyptic world, rag-doll robots hi...  \n",
       "4  A brilliant group of students become card-coun...  "
      ]
     },
     "execution_count": 141,
     "metadata": {},
     "output_type": "execute_result"
    }
   ],
   "source": [
    "netflix_new = pd.read_csv('netflix_titles.csv')\n",
    "netflix_new['director'] = netflix_new['director'].fillna(\"\")\n",
    "netflix_new['cast'] = netflix_new['cast'].fillna(\"\")\n",
    "netflix_new['combined'] = netflix_new['description'] + netflix_new['cast'] + netflix_new['director']\n",
    "netflix_new.head(5)"
   ]
  },
  {
   "cell_type": "markdown",
   "metadata": {},
   "source": [
    "## Exploratory Data Analysis (EDA)"
   ]
  },
  {
   "cell_type": "code",
   "execution_count": 154,
   "metadata": {},
   "outputs": [
    {
     "name": "stdout",
     "output_type": "stream",
     "text": [
      "The number of movies on Netflix are 5377\n"
     ]
    },
    {
     "data": {
      "image/png": "[encoded data removed]",
      "text/plain": [
       "<Figure size 432x288 with 1 Axes>"
      ]
     },
     "metadata": {
      "needs_background": "light"
     },
     "output_type": "display_data"
    }
   ],
   "source": [
    "sns.countplot(x = netflix['type'],color = 'red',data=netflix)\n",
    "print(\"The number of movies on Netflix are\",max(netflix['type'].value_counts()))"
   ]
  },
  {
   "cell_type": "markdown",
   "metadata": {},
   "source": [
    "<h3> From the above plot it is clear that there are more number of movies on Netflix than TV shows </h3>"
   ]
  },
  {
   "cell_type": "code",
   "execution_count": 149,
   "metadata": {},
   "outputs": [
    {
     "data": {
      "text/plain": [
       "Text(0.5, 1.0, 'Ratings of shows/movies on Netflix')"
      ]
     },
     "execution_count": 149,
     "metadata": {},
     "output_type": "execute_result"
    },
    {
     "data": {
      "image/png": "[encoded data removed]",
      "text/plain": [
       "<Figure size 864x576 with 1 Axes>"
      ]
     },
     "metadata": {
      "needs_background": "light"
     },
     "output_type": "display_data"
    }
   ],
   "source": [
    "plt.figure(figsize=(12,8))\n",
    "sns.countplot(x = netflix['rating'],hue='type',data=netflix)\n",
    "plt.title('Ratings of shows/movies on Netflix')"
   ]
  },
  {
   "cell_type": "code",
   "execution_count": 18,
   "metadata": {},
   "outputs": [
    {
     "data": {
      "text/plain": [
       "United States                    2555\n",
       "India                             923\n",
       "United Kingdom                    397\n",
       "Japan                             226\n",
       "South Korea                       183\n",
       "Canada                            177\n",
       "Spain                             134\n",
       "France                            115\n",
       "Egypt                             101\n",
       "Mexico                            100\n",
       "Turkey                            100\n",
       "Australia                          83\n",
       "Taiwan                             78\n",
       "Brazil                             72\n",
       "Philippines                        71\n",
       "Nigeria                            70\n",
       "Indonesia                          70\n",
       "United Kingdom, United States      64\n",
       "Germany                            61\n",
       "United States, Canada              60\n",
       "Name: country, dtype: int64"
      ]
     },
     "execution_count": 18,
     "metadata": {},
     "output_type": "execute_result"
    }
   ],
   "source": [
    "x= netflix['country'].value_counts().head(20)\n",
    "x"
   ]
  },
  {
   "cell_type": "markdown",
   "metadata": {},
   "source": [
    "<h3> Visualising the amount of content by country </h3>"
   ]
  },
  {
   "cell_type": "code",
   "execution_count": 170,
   "metadata": {},
   "outputs": [
    {
     "name": "stdout",
     "output_type": "stream",
     "text": [
      "The maximum number of movies and TV shows which appeared on Netflix are 2555\n"
     ]
    },
    {
     "data": {
      "image/png": "[encoded data removed]",
      "text/plain": [
       "<Figure size 720x360 with 1 Axes>"
      ]
     },
     "metadata": {
      "needs_background": "light"
     },
     "output_type": "display_data"
    }
   ],
   "source": [
    "plt.figure(figsize=(10,5))\n",
    "sns.barplot(x = x.values,y = x.index)\n",
    "plt.title(\"Amount of content by country\",fontsize = 15,fontweight=\"bold\")\n",
    "print(\"The maximum number of movies and TV shows which appeared on Netflix are\",max(x.values))"
   ]
  },
  {
   "cell_type": "markdown",
   "metadata": {},
   "source": [
    "<h3> United States appears to be the country with maximum number of content on Netflix </h3>"
   ]
  },
  {
   "cell_type": "code",
   "execution_count": 139,
   "metadata": {},
   "outputs": [
    {
     "data": {
      "text/plain": [
       "Text(0.5, 1.0, 'Top 10 directors on Netflix')"
      ]
     },
     "execution_count": 139,
     "metadata": {},
     "output_type": "execute_result"
    },
    {
     "data": {
      "image/png": "[encoded data removed]",
      "text/plain": [
       "<Figure size 720x360 with 1 Axes>"
      ]
     },
     "metadata": {
      "needs_background": "light"
     },
     "output_type": "display_data"
    }
   ],
   "source": [
    "plt.figure(figsize=(10,5))\n",
    "maker = netflix['director'].value_counts().head(10)\n",
    "sns.barplot(x=maker.values,y=maker.index,alpha=0.9)\n",
    "plt.title(\"Top 10 directors on Netflix\",fontsize=15, fontweight=\"bold\")"
   ]
  },
  {
   "cell_type": "markdown",
   "metadata": {},
   "source": [
    "<h3> Clearly, Raul Campos and Jan Suter have directed the most number of films which have released on Netflix. </h3>            \n"
   ]
  },
  {
   "cell_type": "code",
   "execution_count": 21,
   "metadata": {},
   "outputs": [],
   "source": [
    "# Constructing a list which will store the duration of all the tv shows and movies on Netflix\n",
    "duration_movie=[]\n",
    "for i in range(netflix[\"duration\"].shape[0]):\n",
    "    if netflix[\"type\"][i]==\"Movie\":\n",
    "        duration_movie.append(netflix['duration'][i]) #Appending the durations of movies in the list\n",
    "\n",
    "duration_movie_num=[]\n",
    "for j in range(len(duration_movie)):\n",
    "    duration_movie_num.append(int(duration_movie[j].split(\" \")[0]))"
   ]
  },
  {
   "cell_type": "code",
   "execution_count": 155,
   "metadata": {},
   "outputs": [
    {
     "data": {
      "text/plain": [
       "['93 min',\n",
       " '78 min',\n",
       " '80 min',\n",
       " '123 min',\n",
       " '95 min',\n",
       " '119 min',\n",
       " '118 min',\n",
       " '143 min',\n",
       " '103 min',\n",
       " '89 min',\n",
       " '91 min',\n",
       " '149 min',\n",
       " '144 min',\n",
       " '124 min',\n",
       " '87 min',\n",
       " '110 min',\n",
       " '128 min',\n",
       " '117 min',\n",
       " '100 min',\n",
       " '84 min',\n",
       " '99 min',\n",
       " '95 min',\n",
       " '90 min',\n",
       " '102 min',\n",
       " '104 min',\n",
       " '99 min',\n",
       " '105 min',\n",
       " '56 min',\n",
       " '125 min',\n",
       " '119 min',\n",
       " '81 min',\n",
       " '97 min',\n",
       " '106 min',\n",
       " '99 min',\n",
       " '107 min',\n",
       " '93 min',\n",
       " '89 min',\n",
       " '105 min',\n",
       " '87 min',\n",
       " '97 min',\n",
       " '109 min',\n",
       " '93 min',\n",
       " '109 min',\n",
       " '44 min',\n",
       " '75 min',\n",
       " '101 min',\n",
       " '89 min',\n",
       " '90 min',\n",
       " '90 min',\n",
       " '93 min',\n",
       " '101 min',\n",
       " '37 min',\n",
       " '113 min',\n",
       " '89 min',\n",
       " '84 min',\n",
       " '102 min',\n",
       " '102 min',\n",
       " '114 min',\n",
       " '130 min',\n",
       " '90 min',\n",
       " '94 min',\n",
       " '97 min',\n",
       " '143 min',\n",
       " '91 min',\n",
       " '107 min',\n",
       " '95 min',\n",
       " '119 min',\n",
       " '93 min',\n",
       " '101 min',\n",
       " '93 min',\n",
       " '140 min',\n",
       " '135 min',\n",
       " '82 min',\n",
       " '70 min',\n",
       " '104 min',\n",
       " '117 min',\n",
       " '121 min',\n",
       " '92 min',\n",
       " '124 min',\n",
       " '164 min',\n",
       " '53 min',\n",
       " '93 min',\n",
       " '91 min',\n",
       " '83 min',\n",
       " '93 min',\n",
       " '114 min',\n",
       " '116 min',\n",
       " '93 min',\n",
       " '81 min',\n",
       " '84 min',\n",
       " '105 min',\n",
       " '86 min',\n",
       " '120 min',\n",
       " '106 min',\n",
       " '92 min',\n",
       " '96 min',\n",
       " '97 min',\n",
       " '99 min',\n",
       " '100 min',\n",
       " '126 min',\n",
       " '96 min',\n",
       " '75 min',\n",
       " '94 min',\n",
       " '129 min',\n",
       " '80 min',\n",
       " '103 min',\n",
       " '96 min',\n",
       " '77 min',\n",
       " '137 min',\n",
       " '148 min',\n",
       " '123 min',\n",
       " '121 min',\n",
       " '95 min',\n",
       " '28 min',\n",
       " '99 min',\n",
       " '104 min',\n",
       " '122 min',\n",
       " '104 min',\n",
       " '94 min',\n",
       " '176 min',\n",
       " '107 min',\n",
       " '90 min',\n",
       " '94 min',\n",
       " '101 min',\n",
       " '87 min',\n",
       " '92 min',\n",
       " '85 min',\n",
       " '93 min',\n",
       " '22 min',\n",
       " '95 min',\n",
       " '86 min',\n",
       " '137 min',\n",
       " '101 min',\n",
       " '68 min',\n",
       " '121 min',\n",
       " '111 min',\n",
       " '110 min',\n",
       " '29 min',\n",
       " '142 min',\n",
       " '168 min',\n",
       " '102 min',\n",
       " '92 min',\n",
       " '86 min',\n",
       " '22 min',\n",
       " '22 min',\n",
       " '21 min',\n",
       " '59 min',\n",
       " '93 min',\n",
       " '86 min',\n",
       " '80 min',\n",
       " '109 min',\n",
       " '92 min',\n",
       " '92 min',\n",
       " '89 min',\n",
       " '96 min',\n",
       " '95 min',\n",
       " '87 min',\n",
       " '93 min',\n",
       " '113 min',\n",
       " '20 min',\n",
       " '117 min',\n",
       " '97 min',\n",
       " '98 min',\n",
       " '108 min',\n",
       " '125 min',\n",
       " '91 min',\n",
       " '76 min',\n",
       " '90 min',\n",
       " '82 min',\n",
       " '111 min',\n",
       " '92 min',\n",
       " '110 min',\n",
       " '94 min',\n",
       " '100 min',\n",
       " '91 min',\n",
       " '94 min',\n",
       " '44 min',\n",
       " '108 min',\n",
       " '130 min',\n",
       " '83 min',\n",
       " '123 min',\n",
       " '106 min',\n",
       " '87 min',\n",
       " '130 min',\n",
       " '100 min',\n",
       " '96 min',\n",
       " '89 min',\n",
       " '95 min',\n",
       " '26 min',\n",
       " '156 min',\n",
       " '98 min',\n",
       " '30 min',\n",
       " '108 min',\n",
       " '92 min',\n",
       " '28 min',\n",
       " '99 min',\n",
       " '85 min',\n",
       " '122 min',\n",
       " '84 min',\n",
       " '57 min',\n",
       " '107 min',\n",
       " '102 min',\n",
       " '103 min',\n",
       " '91 min',\n",
       " '104 min',\n",
       " '91 min',\n",
       " '110 min',\n",
       " '111 min',\n",
       " '77 min',\n",
       " '99 min',\n",
       " '122 min',\n",
       " '150 min',\n",
       " '117 min',\n",
       " '126 min',\n",
       " '148 min',\n",
       " '122 min',\n",
       " '95 min',\n",
       " '133 min',\n",
       " '164 min',\n",
       " '115 min',\n",
       " '154 min',\n",
       " '133 min',\n",
       " '110 min',\n",
       " '127 min',\n",
       " '146 min',\n",
       " '136 min',\n",
       " '100 min',\n",
       " '90 min',\n",
       " '88 min',\n",
       " '131 min',\n",
       " '44 min',\n",
       " '101 min',\n",
       " '123 min',\n",
       " '90 min',\n",
       " '89 min',\n",
       " '87 min',\n",
       " '24 min',\n",
       " '88 min',\n",
       " '133 min',\n",
       " '110 min',\n",
       " '112 min',\n",
       " '129 min',\n",
       " '87 min',\n",
       " '87 min',\n",
       " '120 min',\n",
       " '59 min',\n",
       " '74 min',\n",
       " '96 min',\n",
       " '91 min',\n",
       " '59 min',\n",
       " '105 min',\n",
       " '63 min',\n",
       " '111 min',\n",
       " '96 min',\n",
       " '99 min',\n",
       " '92 min',\n",
       " '86 min',\n",
       " '90 min',\n",
       " '63 min',\n",
       " '106 min',\n",
       " '38 min',\n",
       " '93 min',\n",
       " '87 min',\n",
       " '25 min',\n",
       " '105 min',\n",
       " '94 min',\n",
       " '107 min',\n",
       " '89 min',\n",
       " '92 min',\n",
       " '22 min',\n",
       " '174 min',\n",
       " '60 min',\n",
       " '97 min',\n",
       " '122 min',\n",
       " '91 min',\n",
       " '84 min',\n",
       " '97 min',\n",
       " '127 min',\n",
       " '153 min',\n",
       " '158 min',\n",
       " '151 min',\n",
       " '150 min',\n",
       " '105 min',\n",
       " '109 min',\n",
       " '81 min',\n",
       " '162 min',\n",
       " '104 min',\n",
       " '54 min',\n",
       " '94 min',\n",
       " '83 min',\n",
       " '85 min',\n",
       " '106 min',\n",
       " '60 min',\n",
       " '102 min',\n",
       " '88 min',\n",
       " '51 min',\n",
       " '100 min',\n",
       " '131 min',\n",
       " '109 min',\n",
       " '69 min',\n",
       " '106 min',\n",
       " '115 min',\n",
       " '60 min',\n",
       " '64 min',\n",
       " '110 min',\n",
       " '54 min',\n",
       " '147 min',\n",
       " '112 min',\n",
       " '87 min',\n",
       " '63 min',\n",
       " '88 min',\n",
       " '42 min',\n",
       " '90 min',\n",
       " '89 min',\n",
       " '79 min',\n",
       " '101 min',\n",
       " '102 min',\n",
       " '122 min',\n",
       " '85 min',\n",
       " '83 min',\n",
       " '92 min',\n",
       " '40 min',\n",
       " '84 min',\n",
       " '104 min',\n",
       " '91 min',\n",
       " '109 min',\n",
       " '100 min',\n",
       " '90 min',\n",
       " '90 min',\n",
       " '94 min',\n",
       " '99 min',\n",
       " '90 min',\n",
       " '95 min',\n",
       " '92 min',\n",
       " '103 min',\n",
       " '103 min',\n",
       " '103 min',\n",
       " '45 min',\n",
       " '45 min',\n",
       " '90 min',\n",
       " '106 min',\n",
       " '75 min',\n",
       " '98 min',\n",
       " '112 min',\n",
       " '92 min',\n",
       " '103 min',\n",
       " '104 min',\n",
       " '92 min',\n",
       " '172 min',\n",
       " '125 min',\n",
       " '96 min',\n",
       " '44 min',\n",
       " '81 min',\n",
       " '112 min',\n",
       " '122 min',\n",
       " '101 min',\n",
       " '53 min',\n",
       " '53 min',\n",
       " '110 min',\n",
       " '10 min',\n",
       " '99 min',\n",
       " '95 min',\n",
       " '119 min',\n",
       " '163 min',\n",
       " '55 min',\n",
       " '84 min',\n",
       " '96 min',\n",
       " '102 min',\n",
       " '90 min',\n",
       " '106 min',\n",
       " '72 min',\n",
       " '127 min',\n",
       " '116 min',\n",
       " '128 min',\n",
       " '61 min',\n",
       " '57 min',\n",
       " '80 min',\n",
       " '80 min',\n",
       " '75 min',\n",
       " '75 min',\n",
       " '79 min',\n",
       " '93 min',\n",
       " '129 min',\n",
       " '108 min',\n",
       " '87 min',\n",
       " '71 min',\n",
       " '97 min',\n",
       " '91 min',\n",
       " '83 min',\n",
       " '85 min',\n",
       " '116 min',\n",
       " '130 min',\n",
       " '111 min',\n",
       " '113 min',\n",
       " '97 min',\n",
       " '102 min',\n",
       " '106 min',\n",
       " '160 min',\n",
       " '137 min',\n",
       " '171 min',\n",
       " '171 min',\n",
       " '104 min',\n",
       " '95 min',\n",
       " '90 min',\n",
       " '128 min',\n",
       " '103 min',\n",
       " '121 min',\n",
       " '30 min',\n",
       " '48 min',\n",
       " '139 min',\n",
       " '105 min',\n",
       " '104 min',\n",
       " '162 min',\n",
       " '157 min',\n",
       " '15 min',\n",
       " '106 min',\n",
       " '130 min',\n",
       " '88 min',\n",
       " '146 min',\n",
       " '64 min',\n",
       " '104 min',\n",
       " '127 min',\n",
       " '92 min',\n",
       " '100 min',\n",
       " '72 min',\n",
       " '118 min',\n",
       " '110 min',\n",
       " '65 min',\n",
       " '64 min',\n",
       " '59 min',\n",
       " '122 min',\n",
       " '90 min',\n",
       " '60 min',\n",
       " '134 min',\n",
       " '89 min',\n",
       " '161 min',\n",
       " '86 min',\n",
       " '87 min',\n",
       " '130 min',\n",
       " '107 min',\n",
       " '80 min',\n",
       " '79 min',\n",
       " '62 min',\n",
       " '93 min',\n",
       " '81 min',\n",
       " '87 min',\n",
       " '54 min',\n",
       " '98 min',\n",
       " '113 min',\n",
       " '91 min',\n",
       " '89 min',\n",
       " '63 min',\n",
       " '110 min',\n",
       " '98 min',\n",
       " '125 min',\n",
       " '106 min',\n",
       " '93 min',\n",
       " '139 min',\n",
       " '90 min',\n",
       " '123 min',\n",
       " '168 min',\n",
       " '83 min',\n",
       " '101 min',\n",
       " '94 min',\n",
       " '100 min',\n",
       " '117 min',\n",
       " '133 min',\n",
       " '81 min',\n",
       " '91 min',\n",
       " '104 min',\n",
       " '106 min',\n",
       " '112 min',\n",
       " '122 min',\n",
       " '102 min',\n",
       " '88 min',\n",
       " '99 min',\n",
       " '186 min',\n",
       " '49 min',\n",
       " '94 min',\n",
       " '90 min',\n",
       " '95 min',\n",
       " '97 min',\n",
       " '110 min',\n",
       " '97 min',\n",
       " '73 min',\n",
       " '88 min',\n",
       " '150 min',\n",
       " '97 min',\n",
       " '91 min',\n",
       " '92 min',\n",
       " '111 min',\n",
       " '101 min',\n",
       " '112 min',\n",
       " '73 min',\n",
       " '89 min',\n",
       " '129 min',\n",
       " '58 min',\n",
       " '80 min',\n",
       " '65 min',\n",
       " '99 min',\n",
       " '126 min',\n",
       " '135 min',\n",
       " '127 min',\n",
       " '165 min',\n",
       " '166 min',\n",
       " '166 min',\n",
       " '138 min',\n",
       " '159 min',\n",
       " '160 min',\n",
       " '159 min',\n",
       " '136 min',\n",
       " '112 min',\n",
       " '101 min',\n",
       " '143 min',\n",
       " '127 min',\n",
       " '98 min',\n",
       " '61 min',\n",
       " '95 min',\n",
       " '86 min',\n",
       " '84 min',\n",
       " '111 min',\n",
       " '92 min',\n",
       " '102 min',\n",
       " '97 min',\n",
       " '90 min',\n",
       " '119 min',\n",
       " '147 min',\n",
       " '99 min',\n",
       " '130 min',\n",
       " '87 min',\n",
       " '83 min',\n",
       " '83 min',\n",
       " '105 min',\n",
       " '91 min',\n",
       " '117 min',\n",
       " '117 min',\n",
       " '78 min',\n",
       " '75 min',\n",
       " '78 min',\n",
       " '149 min',\n",
       " '103 min',\n",
       " '108 min',\n",
       " '84 min',\n",
       " '94 min',\n",
       " '95 min',\n",
       " '141 min',\n",
       " '122 min',\n",
       " '134 min',\n",
       " '107 min',\n",
       " '126 min',\n",
       " '122 min',\n",
       " '95 min',\n",
       " '88 min',\n",
       " '101 min',\n",
       " '74 min',\n",
       " '64 min',\n",
       " '74 min',\n",
       " '74 min',\n",
       " '83 min',\n",
       " '72 min',\n",
       " '79 min',\n",
       " '72 min',\n",
       " '80 min',\n",
       " '75 min',\n",
       " '75 min',\n",
       " '72 min',\n",
       " '109 min',\n",
       " '132 min',\n",
       " '110 min',\n",
       " '99 min',\n",
       " '144 min',\n",
       " '91 min',\n",
       " '105 min',\n",
       " '166 min',\n",
       " '103 min',\n",
       " '128 min',\n",
       " '118 min',\n",
       " '87 min',\n",
       " '77 min',\n",
       " '98 min',\n",
       " '94 min',\n",
       " '125 min',\n",
       " '29 min',\n",
       " '102 min',\n",
       " '121 min',\n",
       " '116 min',\n",
       " '110 min',\n",
       " '88 min',\n",
       " '52 min',\n",
       " '89 min',\n",
       " '52 min',\n",
       " '137 min',\n",
       " '51 min',\n",
       " '110 min',\n",
       " '92 min',\n",
       " '119 min',\n",
       " '81 min',\n",
       " '73 min',\n",
       " '75 min',\n",
       " '99 min',\n",
       " '89 min',\n",
       " '121 min',\n",
       " '100 min',\n",
       " '92 min',\n",
       " '100 min',\n",
       " '98 min',\n",
       " '97 min',\n",
       " '97 min',\n",
       " '86 min',\n",
       " '105 min',\n",
       " '100 min',\n",
       " '96 min',\n",
       " '115 min',\n",
       " '99 min',\n",
       " '76 min',\n",
       " '113 min',\n",
       " '88 min',\n",
       " '106 min',\n",
       " '127 min',\n",
       " '90 min',\n",
       " '74 min',\n",
       " '91 min',\n",
       " '85 min',\n",
       " '90 min',\n",
       " '102 min',\n",
       " '90 min',\n",
       " '87 min',\n",
       " '100 min',\n",
       " '25 min',\n",
       " '94 min',\n",
       " '105 min',\n",
       " '99 min',\n",
       " '116 min',\n",
       " '82 min',\n",
       " '120 min',\n",
       " '77 min',\n",
       " '92 min',\n",
       " '107 min',\n",
       " '62 min',\n",
       " '57 min',\n",
       " '70 min',\n",
       " '98 min',\n",
       " '77 min',\n",
       " '44 min',\n",
       " '97 min',\n",
       " '100 min',\n",
       " '104 min',\n",
       " '56 min',\n",
       " '108 min',\n",
       " '83 min',\n",
       " '91 min',\n",
       " '149 min',\n",
       " '112 min',\n",
       " '102 min',\n",
       " '98 min',\n",
       " '107 min',\n",
       " '59 min',\n",
       " '120 min',\n",
       " '151 min',\n",
       " '116 min',\n",
       " '112 min',\n",
       " '117 min',\n",
       " '130 min',\n",
       " '74 min',\n",
       " '150 min',\n",
       " '63 min',\n",
       " '138 min',\n",
       " '148 min',\n",
       " '114 min',\n",
       " '123 min',\n",
       " '97 min',\n",
       " '105 min',\n",
       " '107 min',\n",
       " '106 min',\n",
       " '87 min',\n",
       " '93 min',\n",
       " '88 min',\n",
       " '126 min',\n",
       " '107 min',\n",
       " '103 min',\n",
       " '90 min',\n",
       " '68 min',\n",
       " '100 min',\n",
       " '95 min',\n",
       " '108 min',\n",
       " '86 min',\n",
       " '81 min',\n",
       " '65 min',\n",
       " '67 min',\n",
       " '78 min',\n",
       " '69 min',\n",
       " '28 min',\n",
       " '34 min',\n",
       " '61 min',\n",
       " '56 min',\n",
       " '81 min',\n",
       " '97 min',\n",
       " '132 min',\n",
       " '110 min',\n",
       " '66 min',\n",
       " '127 min',\n",
       " '131 min',\n",
       " '107 min',\n",
       " '124 min',\n",
       " '38 min',\n",
       " '115 min',\n",
       " '88 min',\n",
       " '97 min',\n",
       " '116 min',\n",
       " '132 min',\n",
       " '117 min',\n",
       " '137 min',\n",
       " '100 min',\n",
       " '79 min',\n",
       " '162 min',\n",
       " '144 min',\n",
       " '79 min',\n",
       " '312 min',\n",
       " '135 min',\n",
       " '83 min',\n",
       " '114 min',\n",
       " '88 min',\n",
       " '116 min',\n",
       " '91 min',\n",
       " '83 min',\n",
       " '80 min',\n",
       " '90 min',\n",
       " '106 min',\n",
       " '129 min',\n",
       " '94 min',\n",
       " '94 min',\n",
       " '120 min',\n",
       " '83 min',\n",
       " '91 min',\n",
       " '130 min',\n",
       " '91 min',\n",
       " '102 min',\n",
       " '85 min',\n",
       " '88 min',\n",
       " '110 min',\n",
       " '113 min',\n",
       " '123 min',\n",
       " '180 min',\n",
       " '98 min',\n",
       " '81 min',\n",
       " '90 min',\n",
       " '90 min',\n",
       " '94 min',\n",
       " '112 min',\n",
       " '129 min',\n",
       " '85 min',\n",
       " '108 min',\n",
       " '60 min',\n",
       " '60 min',\n",
       " '97 min',\n",
       " '47 min',\n",
       " '99 min',\n",
       " '83 min',\n",
       " '168 min',\n",
       " '116 min',\n",
       " '99 min',\n",
       " '106 min',\n",
       " '130 min',\n",
       " '161 min',\n",
       " '111 min',\n",
       " '26 min',\n",
       " '92 min',\n",
       " '102 min',\n",
       " '99 min',\n",
       " '89 min',\n",
       " '108 min',\n",
       " '123 min',\n",
       " '86 min',\n",
       " '89 min',\n",
       " '88 min',\n",
       " '126 min',\n",
       " '117 min',\n",
       " '111 min',\n",
       " '79 min',\n",
       " '96 min',\n",
       " '70 min',\n",
       " '87 min',\n",
       " '89 min',\n",
       " '86 min',\n",
       " '74 min',\n",
       " '139 min',\n",
       " '112 min',\n",
       " '84 min',\n",
       " '100 min',\n",
       " '80 min',\n",
       " '86 min',\n",
       " '105 min',\n",
       " '90 min',\n",
       " '63 min',\n",
       " '96 min',\n",
       " '89 min',\n",
       " '90 min',\n",
       " '102 min',\n",
       " '51 min',\n",
       " '92 min',\n",
       " '94 min',\n",
       " '96 min',\n",
       " '108 min',\n",
       " '105 min',\n",
       " '81 min',\n",
       " '105 min',\n",
       " '116 min',\n",
       " '77 min',\n",
       " '61 min',\n",
       " '110 min',\n",
       " '110 min',\n",
       " '94 min',\n",
       " '51 min',\n",
       " '118 min',\n",
       " '100 min',\n",
       " '95 min',\n",
       " '133 min',\n",
       " '97 min',\n",
       " '110 min',\n",
       " '90 min',\n",
       " '120 min',\n",
       " '155 min',\n",
       " '91 min',\n",
       " '90 min',\n",
       " '90 min',\n",
       " '129 min',\n",
       " '103 min',\n",
       " '103 min',\n",
       " '14 min',\n",
       " '95 min',\n",
       " '103 min',\n",
       " '73 min',\n",
       " '94 min',\n",
       " '95 min',\n",
       " '94 min',\n",
       " '97 min',\n",
       " '98 min',\n",
       " '98 min',\n",
       " '119 min',\n",
       " '76 min',\n",
       " '104 min',\n",
       " '148 min',\n",
       " '78 min',\n",
       " '102 min',\n",
       " '94 min',\n",
       " '98 min',\n",
       " '108 min',\n",
       " '128 min',\n",
       " '110 min',\n",
       " '122 min',\n",
       " '177 min',\n",
       " '104 min',\n",
       " '135 min',\n",
       " '127 min',\n",
       " '114 min',\n",
       " '98 min',\n",
       " '87 min',\n",
       " '151 min',\n",
       " '78 min',\n",
       " '73 min',\n",
       " '125 min',\n",
       " '126 min',\n",
       " '101 min',\n",
       " '11 min',\n",
       " '11 min',\n",
       " '22 min',\n",
       " '93 min',\n",
       " '95 min',\n",
       " '105 min',\n",
       " '104 min',\n",
       " '104 min',\n",
       " '117 min',\n",
       " '101 min',\n",
       " '120 min',\n",
       " '114 min',\n",
       " '93 min',\n",
       " '104 min',\n",
       " '99 min',\n",
       " '9 min',\n",
       " '103 min',\n",
       " '126 min',\n",
       " '81 min',\n",
       " '46 min',\n",
       " '104 min',\n",
       " '92 min',\n",
       " '142 min',\n",
       " '131 min',\n",
       " '113 min',\n",
       " '83 min',\n",
       " '67 min',\n",
       " '63 min',\n",
       " '82 min',\n",
       " '119 min',\n",
       " '98 min',\n",
       " '98 min',\n",
       " '85 min',\n",
       " '84 min',\n",
       " '82 min',\n",
       " '111 min',\n",
       " '145 min',\n",
       " '125 min',\n",
       " '108 min',\n",
       " '81 min',\n",
       " '108 min',\n",
       " '141 min',\n",
       " '117 min',\n",
       " '74 min',\n",
       " '96 min',\n",
       " '82 min',\n",
       " '75 min',\n",
       " '77 min',\n",
       " '60 min',\n",
       " '107 min',\n",
       " '156 min',\n",
       " '110 min',\n",
       " '116 min',\n",
       " '148 min',\n",
       " '126 min',\n",
       " '135 min',\n",
       " '110 min',\n",
       " '129 min',\n",
       " '132 min',\n",
       " '118 min',\n",
       " '166 min',\n",
       " '112 min',\n",
       " '164 min',\n",
       " '102 min',\n",
       " '121 min',\n",
       " '87 min',\n",
       " '95 min',\n",
       " '86 min',\n",
       " '106 min',\n",
       " '121 min',\n",
       " '115 min',\n",
       " '98 min',\n",
       " '106 min',\n",
       " '94 min',\n",
       " '85 min',\n",
       " '121 min',\n",
       " '121 min',\n",
       " '113 min',\n",
       " '89 min',\n",
       " '129 min',\n",
       " '99 min',\n",
       " '105 min',\n",
       " '116 min',\n",
       " '115 min',\n",
       " '71 min',\n",
       " '75 min',\n",
       " '135 min',\n",
       " '88 min',\n",
       " '87 min',\n",
       " '63 min',\n",
       " '62 min',\n",
       " '62 min',\n",
       " '112 min',\n",
       " '113 min',\n",
       " '82 min',\n",
       " '25 min',\n",
       " '98 min',\n",
       " '87 min',\n",
       " '63 min',\n",
       " '112 min',\n",
       " '127 min',\n",
       " '111 min',\n",
       " '63 min',\n",
       " '92 min',\n",
       " '105 min',\n",
       " '146 min',\n",
       " '96 min',\n",
       " '90 min',\n",
       " '114 min',\n",
       " '101 min',\n",
       " '80 min',\n",
       " '84 min',\n",
       " '66 min',\n",
       " '55 min',\n",
       " '98 min',\n",
       " '65 min',\n",
       " '92 min',\n",
       " '99 min',\n",
       " '59 min',\n",
       " '119 min',\n",
       " '87 min',\n",
       " '106 min',\n",
       " '87 min',\n",
       " '112 min',\n",
       " '88 min',\n",
       " '105 min',\n",
       " '101 min',\n",
       " '86 min',\n",
       " '86 min',\n",
       " '91 min',\n",
       " '99 min',\n",
       " '104 min',\n",
       " '86 min',\n",
       " '104 min',\n",
       " '47 min',\n",
       " '56 min',\n",
       " '61 min',\n",
       " ...]"
      ]
     },
     "execution_count": 155,
     "metadata": {},
     "output_type": "execute_result"
    }
   ],
   "source": [
    "duration_movie"
   ]
  },
  {
   "cell_type": "code",
   "execution_count": 157,
   "metadata": {},
   "outputs": [
    {
     "data": {
      "text/plain": [
       "Text(3.674999999999997, 0.5, 'DENSITY')"
      ]
     },
     "execution_count": 157,
     "metadata": {},
     "output_type": "execute_result"
    },
    {
     "data": {
      "text/plain": [
       "<Figure size 1080x720 with 0 Axes>"
      ]
     },
     "metadata": {},
     "output_type": "display_data"
    },
    {
     "data": {
      "image/png": "[encoded data removed]",
      "text/plain": [
       "<Figure size 360x360 with 1 Axes>"
      ]
     },
     "metadata": {
      "needs_background": "light"
     },
     "output_type": "display_data"
    }
   ],
   "source": [
    "plt.figure(figsize=(15,10))\n",
    "sns.displot(data = duration_movie_num,bins=60,kde=True,)\n",
    "sns.color_palette(\"rocket\", as_cmap=True)\n",
    "plt.title('Distribution of Movie Duration on Netflix',fontweight = \"bold\")\n",
    "plt.xlabel(\"DURATION\")\n",
    "plt.ylabel(\"DENSITY\")"
   ]
  },
  {
   "cell_type": "markdown",
   "metadata": {},
   "source": [
    "<h3> The above distribution plot shows that most of the movies on Netflix was of 100 minutes </h3>"
   ]
  },
  {
   "cell_type": "code",
   "execution_count": 23,
   "metadata": {},
   "outputs": [],
   "source": [
    "#Classifying the movies into kids and adults categories in each year\n",
    "rating_trend= pd.DataFrame({'Year':np.sort(netflix['year_added'].unique())})\n",
    "kids_count=[]\n",
    "for i in np.sort(netflix['year_added'].unique()):\n",
    "    kids_count.append(np.argwhere((netflix['year_added'].to_numpy()==i)&(netflix['ratings_sensitivity'].to_numpy()=='kids')).shape[0])\n",
    "    \n",
    "    \n",
    "adult_count=[]\n",
    "for i in np.sort(netflix['year_added'].unique()):\n",
    "    adult_count.append(np.argwhere((netflix['year_added'].to_numpy()==i)&(netflix['ratings_sensitivity'].to_numpy()=='adults')).shape[0])\n",
    "    \n",
    "    \n",
    "rating_trend['Kids']= kids_count\n",
    "rating_trend['Adults']= adult_count\n",
    "plot=rating_trend.dropna()"
   ]
  },
  {
   "cell_type": "code",
   "execution_count": 164,
   "metadata": {},
   "outputs": [],
   "source": [
    "np.argwhere?"
   ]
  },
  {
   "cell_type": "code",
   "execution_count": 158,
   "metadata": {},
   "outputs": [
    {
     "data": {
      "text/html": [
       "<div>\n",
       "<style scoped>\n",
       "    .dataframe tbody tr th:only-of-type {\n",
       "        vertical-align: middle;\n",
       "    }\n",
       "\n",
       "    .dataframe tbody tr th {\n",
       "        vertical-align: top;\n",
       "    }\n",
       "\n",
       "    .dataframe thead th {\n",
       "        text-align: right;\n",
       "    }\n",
       "</style>\n",
       "<table border=\"1\" class=\"dataframe\">\n",
       "  <thead>\n",
       "    <tr style=\"text-align: right;\">\n",
       "      <th></th>\n",
       "      <th>Year</th>\n",
       "      <th>Kids</th>\n",
       "      <th>Adults</th>\n",
       "    </tr>\n",
       "  </thead>\n",
       "  <tbody>\n",
       "    <tr>\n",
       "      <th>0</th>\n",
       "      <td>2008.0</td>\n",
       "      <td>0</td>\n",
       "      <td>2</td>\n",
       "    </tr>\n",
       "    <tr>\n",
       "      <th>1</th>\n",
       "      <td>2009.0</td>\n",
       "      <td>0</td>\n",
       "      <td>2</td>\n",
       "    </tr>\n",
       "    <tr>\n",
       "      <th>2</th>\n",
       "      <td>2010.0</td>\n",
       "      <td>1</td>\n",
       "      <td>0</td>\n",
       "    </tr>\n",
       "    <tr>\n",
       "      <th>3</th>\n",
       "      <td>2011.0</td>\n",
       "      <td>0</td>\n",
       "      <td>13</td>\n",
       "    </tr>\n",
       "    <tr>\n",
       "      <th>4</th>\n",
       "      <td>2012.0</td>\n",
       "      <td>0</td>\n",
       "      <td>3</td>\n",
       "    </tr>\n",
       "    <tr>\n",
       "      <th>5</th>\n",
       "      <td>2013.0</td>\n",
       "      <td>4</td>\n",
       "      <td>7</td>\n",
       "    </tr>\n",
       "    <tr>\n",
       "      <th>6</th>\n",
       "      <td>2014.0</td>\n",
       "      <td>2</td>\n",
       "      <td>23</td>\n",
       "    </tr>\n",
       "    <tr>\n",
       "      <th>7</th>\n",
       "      <td>2015.0</td>\n",
       "      <td>20</td>\n",
       "      <td>68</td>\n",
       "    </tr>\n",
       "    <tr>\n",
       "      <th>8</th>\n",
       "      <td>2016.0</td>\n",
       "      <td>86</td>\n",
       "      <td>357</td>\n",
       "    </tr>\n",
       "    <tr>\n",
       "      <th>9</th>\n",
       "      <td>2017.0</td>\n",
       "      <td>111</td>\n",
       "      <td>1114</td>\n",
       "    </tr>\n",
       "    <tr>\n",
       "      <th>10</th>\n",
       "      <td>2018.0</td>\n",
       "      <td>103</td>\n",
       "      <td>1582</td>\n",
       "    </tr>\n",
       "    <tr>\n",
       "      <th>11</th>\n",
       "      <td>2019.0</td>\n",
       "      <td>125</td>\n",
       "      <td>2028</td>\n",
       "    </tr>\n",
       "    <tr>\n",
       "      <th>12</th>\n",
       "      <td>2020.0</td>\n",
       "      <td>183</td>\n",
       "      <td>1826</td>\n",
       "    </tr>\n",
       "    <tr>\n",
       "      <th>13</th>\n",
       "      <td>2021.0</td>\n",
       "      <td>8</td>\n",
       "      <td>109</td>\n",
       "    </tr>\n",
       "    <tr>\n",
       "      <th>14</th>\n",
       "      <td>NaN</td>\n",
       "      <td>0</td>\n",
       "      <td>0</td>\n",
       "    </tr>\n",
       "  </tbody>\n",
       "</table>\n",
       "</div>"
      ],
      "text/plain": [
       "      Year  Kids  Adults\n",
       "0   2008.0     0       2\n",
       "1   2009.0     0       2\n",
       "2   2010.0     1       0\n",
       "3   2011.0     0      13\n",
       "4   2012.0     0       3\n",
       "5   2013.0     4       7\n",
       "6   2014.0     2      23\n",
       "7   2015.0    20      68\n",
       "8   2016.0    86     357\n",
       "9   2017.0   111    1114\n",
       "10  2018.0   103    1582\n",
       "11  2019.0   125    2028\n",
       "12  2020.0   183    1826\n",
       "13  2021.0     8     109\n",
       "14     NaN     0       0"
      ]
     },
     "execution_count": 158,
     "metadata": {},
     "output_type": "execute_result"
    }
   ],
   "source": [
    "rating_trend"
   ]
  },
  {
   "cell_type": "markdown",
   "metadata": {},
   "source": [
    "<h3> Line Distribution of ratings over the years </h3>"
   ]
  },
  {
   "cell_type": "code",
   "execution_count": 167,
   "metadata": {},
   "outputs": [
    {
     "data": {
      "text/plain": [
       "Text(0, 0.5, 'FREQUENCY')"
      ]
     },
     "execution_count": 167,
     "metadata": {},
     "output_type": "execute_result"
    },
    {
     "data": {
      "image/png": "[encoded data removed]",
      "text/plain": [
       "<Figure size 720x360 with 1 Axes>"
      ]
     },
     "metadata": {
      "needs_background": "light"
     },
     "output_type": "display_data"
    }
   ],
   "source": [
    "plt.figure(figsize=(10,5))\n",
    "plt.plot(plot['Year'],plot['Kids'], color='blue')\n",
    "plt.plot(plot['Year'],plot['Adults'], color='red')\n",
    "plt.legend(labels=[\"Kids\",\"Adults\"],loc=\"upper left\")\n",
    "plt.title(\"TREND OF RATINGS OVER THE YEAR\",fontsize=10,fontweight=\"bold\")\n",
    "plt.xlabel(\"YEARS\")\n",
    "plt.ylabel(\"FREQUENCY\")"
   ]
  },
  {
   "cell_type": "markdown",
   "metadata": {},
   "source": [
    "<h3> It can be seen clearly that the number of adult movies rose dramatically in the year 2019 </h3>"
   ]
  },
  {
   "cell_type": "code",
   "execution_count": 96,
   "metadata": {},
   "outputs": [
    {
     "data": {
      "image/png": "[encoded data removed]",
      "text/plain": [
       "<Figure size 1080x360 with 1 Axes>"
      ]
     },
     "metadata": {
      "needs_background": "light"
     },
     "output_type": "display_data"
    },
    {
     "name": "stdout",
     "output_type": "stream",
     "text": [
      "The maximum number of films an actor has acted are 38\n"
     ]
    }
   ],
   "source": [
    "from collections import Counter\n",
    "actor = netflix['cast']\n",
    "filtered_actor = actor[actor != 'No Data']\n",
    "actor_count = pd.Series(dict(Counter(','.join(filtered_actor).split(',')))).sort_values(ascending=False)\n",
    "top20actor = actor_count.head(20)\n",
    "\n",
    "plt.figure(figsize=(15,5))\n",
    "sns.barplot(x= top20actor.index, y=top20actor)\n",
    "plt.xticks(rotation=60)\n",
    "plt.title('Top 20 actors with most contents', fontsize=10, fontweight='bold')\n",
    "plt.xlabel('actor')\n",
    "plt.show()\n",
    "print(\"The maximum number of films an actor has acted are\",max(top20actor.values))"
   ]
  },
  {
   "cell_type": "markdown",
   "metadata": {},
   "source": [
    "<h3> The actor who has acted in maximum number of films is Anupam Kher </h3>"
   ]
  },
  {
   "cell_type": "markdown",
   "metadata": {},
   "source": [
    "<h3> Top 10 Genre in Movies on Netflix </h3>"
   ]
  },
  {
   "cell_type": "code",
   "execution_count": 137,
   "metadata": {},
   "outputs": [
    {
     "data": {
      "image/png": "[encoded data removed]",
      "text/plain": [
       "<Figure size 432x288 with 1 Axes>"
      ]
     },
     "metadata": {},
     "output_type": "display_data"
    }
   ],
   "source": [
    "fig,ax = plt.subplots()\n",
    "movies_df = netflix[netflix.type==\"Movie\"]\n",
    "ax.pie(movies_df['listed_in'].value_counts().head(10).values,labels=movies_df['listed_in'].value_counts().head(10).index, radius = 2.5,autopct='%1.1f%%')\n",
    "plt.show()"
   ]
  },
  {
   "cell_type": "markdown",
   "metadata": {},
   "source": [
    "<h3> The above pie chart shows that documentaries seem to be the most popular genre in movies on Netflix </h3>"
   ]
  },
  {
   "cell_type": "markdown",
   "metadata": {},
   "source": [
    "<h3> Top 10 Genre in TV shows on Netflix </h3>"
   ]
  },
  {
   "cell_type": "code",
   "execution_count": 138,
   "metadata": {},
   "outputs": [
    {
     "data": {
      "image/png": "[encoded data removed]",
      "text/plain": [
       "<Figure size 432x288 with 1 Axes>"
      ]
     },
     "metadata": {},
     "output_type": "display_data"
    }
   ],
   "source": [
    "fig, ax = plt.subplots()\n",
    "tv_show_df = netflix[netflix.type=='TV Show']\n",
    "ax.pie(tv_show_df['listed_in'].value_counts().head(10).values,labels=tv_show_df['listed_in'].value_counts().head(10).index, radius = 2.5,autopct='%1.1f%%')\n",
    "plt.show()"
   ]
  },
  {
   "cell_type": "markdown",
   "metadata": {},
   "source": [
    "<h3> From the above barplot it is quite evident that the Kids TV is the most popular genre on Netflix  </h3>\n"
   ]
  },
  {
   "cell_type": "markdown",
   "metadata": {},
   "source": [
    "## Recommender System\n",
    "<h3> 1. Movie Recommendation using sigmoid kernel </h3>"
   ]
  },
  {
   "cell_type": "code",
   "execution_count": 28,
   "metadata": {},
   "outputs": [],
   "source": [
    "movies = netflix_new[netflix_new['type']=='Movie'].reset_index()\n",
    "movies = movies.drop(columns = ['duration','country','date_added','release_year','show_id','type','index','listed_in'])"
   ]
  },
  {
   "cell_type": "code",
   "execution_count": 29,
   "metadata": {},
   "outputs": [
    {
     "data": {
      "text/html": [
       "<div>\n",
       "<style scoped>\n",
       "    .dataframe tbody tr th:only-of-type {\n",
       "        vertical-align: middle;\n",
       "    }\n",
       "\n",
       "    .dataframe tbody tr th {\n",
       "        vertical-align: top;\n",
       "    }\n",
       "\n",
       "    .dataframe thead th {\n",
       "        text-align: right;\n",
       "    }\n",
       "</style>\n",
       "<table border=\"1\" class=\"dataframe\">\n",
       "  <thead>\n",
       "    <tr style=\"text-align: right;\">\n",
       "      <th></th>\n",
       "      <th>title</th>\n",
       "      <th>director</th>\n",
       "      <th>cast</th>\n",
       "      <th>rating</th>\n",
       "      <th>description</th>\n",
       "      <th>combined</th>\n",
       "    </tr>\n",
       "  </thead>\n",
       "  <tbody>\n",
       "    <tr>\n",
       "      <th>0</th>\n",
       "      <td>7:19</td>\n",
       "      <td>Jorge Michel Grau</td>\n",
       "      <td>Demián Bichir, Héctor Bonilla, Oscar Serrano, ...</td>\n",
       "      <td>TV-MA</td>\n",
       "      <td>After a devastating earthquake hits Mexico Cit...</td>\n",
       "      <td>After a devastating earthquake hits Mexico Cit...</td>\n",
       "    </tr>\n",
       "    <tr>\n",
       "      <th>1</th>\n",
       "      <td>23:59</td>\n",
       "      <td>Gilbert Chan</td>\n",
       "      <td>Tedd Chan, Stella Chung, Henley Hii, Lawrence ...</td>\n",
       "      <td>R</td>\n",
       "      <td>When an army recruit is found dead, his fellow...</td>\n",
       "      <td>When an army recruit is found dead, his fellow...</td>\n",
       "    </tr>\n",
       "    <tr>\n",
       "      <th>2</th>\n",
       "      <td>9</td>\n",
       "      <td>Shane Acker</td>\n",
       "      <td>Elijah Wood, John C. Reilly, Jennifer Connelly...</td>\n",
       "      <td>PG-13</td>\n",
       "      <td>In a postapocalyptic world, rag-doll robots hi...</td>\n",
       "      <td>In a postapocalyptic world, rag-doll robots hi...</td>\n",
       "    </tr>\n",
       "    <tr>\n",
       "      <th>3</th>\n",
       "      <td>21</td>\n",
       "      <td>Robert Luketic</td>\n",
       "      <td>Jim Sturgess, Kevin Spacey, Kate Bosworth, Aar...</td>\n",
       "      <td>PG-13</td>\n",
       "      <td>A brilliant group of students become card-coun...</td>\n",
       "      <td>A brilliant group of students become card-coun...</td>\n",
       "    </tr>\n",
       "    <tr>\n",
       "      <th>4</th>\n",
       "      <td>122</td>\n",
       "      <td>Yasir Al Yasiri</td>\n",
       "      <td>Amina Khalil, Ahmed Dawood, Tarek Lotfy, Ahmed...</td>\n",
       "      <td>TV-MA</td>\n",
       "      <td>After an awful accident, a couple admitted to ...</td>\n",
       "      <td>After an awful accident, a couple admitted to ...</td>\n",
       "    </tr>\n",
       "  </tbody>\n",
       "</table>\n",
       "</div>"
      ],
      "text/plain": [
       "   title           director  \\\n",
       "0   7:19  Jorge Michel Grau   \n",
       "1  23:59       Gilbert Chan   \n",
       "2      9        Shane Acker   \n",
       "3     21     Robert Luketic   \n",
       "4    122    Yasir Al Yasiri   \n",
       "\n",
       "                                                cast rating  \\\n",
       "0  Demián Bichir, Héctor Bonilla, Oscar Serrano, ...  TV-MA   \n",
       "1  Tedd Chan, Stella Chung, Henley Hii, Lawrence ...      R   \n",
       "2  Elijah Wood, John C. Reilly, Jennifer Connelly...  PG-13   \n",
       "3  Jim Sturgess, Kevin Spacey, Kate Bosworth, Aar...  PG-13   \n",
       "4  Amina Khalil, Ahmed Dawood, Tarek Lotfy, Ahmed...  TV-MA   \n",
       "\n",
       "                                         description  \\\n",
       "0  After a devastating earthquake hits Mexico Cit...   \n",
       "1  When an army recruit is found dead, his fellow...   \n",
       "2  In a postapocalyptic world, rag-doll robots hi...   \n",
       "3  A brilliant group of students become card-coun...   \n",
       "4  After an awful accident, a couple admitted to ...   \n",
       "\n",
       "                                            combined  \n",
       "0  After a devastating earthquake hits Mexico Cit...  \n",
       "1  When an army recruit is found dead, his fellow...  \n",
       "2  In a postapocalyptic world, rag-doll robots hi...  \n",
       "3  A brilliant group of students become card-coun...  \n",
       "4  After an awful accident, a couple admitted to ...  "
      ]
     },
     "execution_count": 29,
     "metadata": {},
     "output_type": "execute_result"
    }
   ],
   "source": [
    "movies['director'] = movies['director'].fillna(\"\")\n",
    "movies['cast'] = movies['cast'].fillna(\"\")\n",
    "movies['combined'] = movies['description']+movies['cast']+movies['director']\n",
    "movies.head(5)"
   ]
  },
  {
   "cell_type": "code",
   "execution_count": 30,
   "metadata": {},
   "outputs": [],
   "source": [
    "tfv = TfidfVectorizer(min_df = 3,max_features = None,analyzer = 'word',token_pattern = 'r\\w{1,}', ngram_range = (1,3), stop_words = 'english')"
   ]
  },
  {
   "cell_type": "code",
   "execution_count": 31,
   "metadata": {},
   "outputs": [],
   "source": [
    "movies['combined'] = movies['combined'].fillna(\"\")"
   ]
  },
  {
   "cell_type": "code",
   "execution_count": 32,
   "metadata": {},
   "outputs": [
    {
     "name": "stderr",
     "output_type": "stream",
     "text": [
      "C:\\Users\\potea\\anaconda3\\lib\\site-packages\\sklearn\\feature_extraction\\text.py:383: UserWarning: Your stop_words may be inconsistent with your preprocessing. Tokenizing the stop words generated tokens ['ral', 'rd', 'rds', 'ready', 'reafter', 'reas', 'reby', 'red', 'ree', 'refore', 'rehand', 'rein', 'reover', 'rest', 'reupon', 'rever', 'rhaps', 'ribe', 'ring', 'rious', 'rly', 'rmer', 'rmerly', 'rom', 'ront', 'ross', 'rough', 'roughout', 'round', 'rs', 'rself', 'rselves', 'rst', 'rt', 'rtheless', 'rther', 'rty', 'ru', 'rwards', 'rwise', 'ry', 'ryone', 'rything', 'rywhere'] not in stop_words.\n",
      "  warnings.warn('Your stop_words may be inconsistent with '\n"
     ]
    },
    {
     "data": {
      "text/plain": [
       "title\n",
       "7:19                                          0\n",
       "23:59                                         1\n",
       "9                                             2\n",
       "21                                            3\n",
       "122                                           4\n",
       "                                           ... \n",
       "Zoom                                       5372\n",
       "Zozo                                       5373\n",
       "Zubaan                                     5374\n",
       "Zulu Man in Japan                          5375\n",
       "ZZ TOP: THAT LITTLE OL' BAND FROM TEXAS    5376\n",
       "Length: 5377, dtype: int64"
      ]
     },
     "execution_count": 32,
     "metadata": {},
     "output_type": "execute_result"
    }
   ],
   "source": [
    "tfv_matrix = tfv.fit_transform(movies['combined'])\n",
    "from sklearn.metrics.pairwise import sigmoid_kernel\n",
    "sig = sigmoid_kernel(tfv_matrix,tfv_matrix)\n",
    "sig[0]\n",
    "indices = pd.Series(movies.index,index = movies['title']).drop_duplicates()\n",
    "indices"
   ]
  },
  {
   "cell_type": "code",
   "execution_count": 33,
   "metadata": {},
   "outputs": [],
   "source": [
    "#Function to recommend movies based on watch history using sigmoid kernel\n",
    "def recommend(title,sig=sig):\n",
    "    idx = indices[title]\n",
    "    sig_scores = list(enumerate(sig[idx]))\n",
    "    sig_scores = sorted(sig_scores,key = lambda x:x[1], reverse = True)\n",
    "    sig_scores = sig_scores[1:11]\n",
    "    movies_indices = [i[0] for i in sig_scores]\n",
    "    return movies['title'].iloc[movies_indices]"
   ]
  },
  {
   "cell_type": "code",
   "execution_count": 34,
   "metadata": {},
   "outputs": [
    {
     "data": {
      "text/plain": [
       "2349                Kevin Hart: Seriously Funny\n",
       "5230                What Would Sophia Loren Do?\n",
       "376                       An American in Madras\n",
       "1598                               French Toast\n",
       "3573                               Reincarnated\n",
       "4264                            The Bittersweet\n",
       "2257            Joshua: Teenager vs. Superpower\n",
       "965      Chingo Bling: They Can't Deport Us All\n",
       "4214    The Adventures of Sharkboy and Lavagirl\n",
       "4773                       The Skin of the Wolf\n",
       "Name: title, dtype: object"
      ]
     },
     "execution_count": 34,
     "metadata": {},
     "output_type": "execute_result"
    }
   ],
   "source": [
    "recommend('Zulu Man in Japan')"
   ]
  },
  {
   "cell_type": "code",
   "execution_count": 35,
   "metadata": {},
   "outputs": [
    {
     "data": {
      "text/plain": [
       "5374                             Zubaan\n",
       "3917            Silent Hill: Revelation\n",
       "1456                           Extremis\n",
       "3016              My Life as a Zucchini\n",
       "3724                            Saladin\n",
       "2835             Michael Lost and Found\n",
       "1408                              Enemy\n",
       "3755    Sarah Silverman A Speck of Dust\n",
       "5076                     Under The Skin\n",
       "2704                             Maktub\n",
       "Name: title, dtype: object"
      ]
     },
     "execution_count": 35,
     "metadata": {},
     "output_type": "execute_result"
    }
   ],
   "source": [
    "recommend('The Cakemaker')"
   ]
  },
  {
   "cell_type": "markdown",
   "metadata": {},
   "source": [
    "<h3> 2. TV shows recommendation using sigmoid kernel </h3>"
   ]
  },
  {
   "cell_type": "code",
   "execution_count": 36,
   "metadata": {},
   "outputs": [],
   "source": [
    "shows = netflix_new[netflix_new['type']=='TV Show'].reset_index()\n",
    "shows = shows.drop(columns = ['duration','country','date_added','release_year','show_id','type','index','listed_in'])"
   ]
  },
  {
   "cell_type": "code",
   "execution_count": 37,
   "metadata": {},
   "outputs": [],
   "source": [
    "shows['director'] = shows['director'].fillna(\"\")\n",
    "shows['cast'] = shows['cast'].fillna(\"\")\n",
    "shows['combined'] = shows['cast']+shows['director']+shows['description']"
   ]
  },
  {
   "cell_type": "code",
   "execution_count": 38,
   "metadata": {},
   "outputs": [
    {
     "data": {
      "text/html": [
       "<div>\n",
       "<style scoped>\n",
       "    .dataframe tbody tr th:only-of-type {\n",
       "        vertical-align: middle;\n",
       "    }\n",
       "\n",
       "    .dataframe tbody tr th {\n",
       "        vertical-align: top;\n",
       "    }\n",
       "\n",
       "    .dataframe thead th {\n",
       "        text-align: right;\n",
       "    }\n",
       "</style>\n",
       "<table border=\"1\" class=\"dataframe\">\n",
       "  <thead>\n",
       "    <tr style=\"text-align: right;\">\n",
       "      <th></th>\n",
       "      <th>title</th>\n",
       "      <th>director</th>\n",
       "      <th>cast</th>\n",
       "      <th>rating</th>\n",
       "      <th>description</th>\n",
       "      <th>combined</th>\n",
       "    </tr>\n",
       "  </thead>\n",
       "  <tbody>\n",
       "    <tr>\n",
       "      <th>0</th>\n",
       "      <td>3%</td>\n",
       "      <td></td>\n",
       "      <td>João Miguel, Bianca Comparato, Michel Gomes, R...</td>\n",
       "      <td>TV-MA</td>\n",
       "      <td>In a future where the elite inhabit an island ...</td>\n",
       "      <td>João Miguel, Bianca Comparato, Michel Gomes, R...</td>\n",
       "    </tr>\n",
       "    <tr>\n",
       "      <th>1</th>\n",
       "      <td>46</td>\n",
       "      <td>Serdar Akar</td>\n",
       "      <td>Erdal Beşikçioğlu, Yasemin Allen, Melis Birkan...</td>\n",
       "      <td>TV-MA</td>\n",
       "      <td>A genetics professor experiments with a treatm...</td>\n",
       "      <td>Erdal Beşikçioğlu, Yasemin Allen, Melis Birkan...</td>\n",
       "    </tr>\n",
       "    <tr>\n",
       "      <th>2</th>\n",
       "      <td>1983</td>\n",
       "      <td></td>\n",
       "      <td>Robert Więckiewicz, Maciej Musiał, Michalina O...</td>\n",
       "      <td>TV-MA</td>\n",
       "      <td>In this dark alt-history thriller, a naïve law...</td>\n",
       "      <td>Robert Więckiewicz, Maciej Musiał, Michalina O...</td>\n",
       "    </tr>\n",
       "    <tr>\n",
       "      <th>3</th>\n",
       "      <td>1994</td>\n",
       "      <td>Diego Enrique Osorno</td>\n",
       "      <td></td>\n",
       "      <td>TV-MA</td>\n",
       "      <td>Archival video and new interviews examine Mexi...</td>\n",
       "      <td>Diego Enrique OsornoArchival video and new int...</td>\n",
       "    </tr>\n",
       "    <tr>\n",
       "      <th>4</th>\n",
       "      <td>Feb-09</td>\n",
       "      <td></td>\n",
       "      <td>Shahd El Yaseen, Shaila Sabt, Hala, Hanadi Al-...</td>\n",
       "      <td>TV-14</td>\n",
       "      <td>As a psychology professor faces Alzheimer's, h...</td>\n",
       "      <td>Shahd El Yaseen, Shaila Sabt, Hala, Hanadi Al-...</td>\n",
       "    </tr>\n",
       "  </tbody>\n",
       "</table>\n",
       "</div>"
      ],
      "text/plain": [
       "    title              director  \\\n",
       "0      3%                         \n",
       "1      46           Serdar Akar   \n",
       "2    1983                         \n",
       "3    1994  Diego Enrique Osorno   \n",
       "4  Feb-09                         \n",
       "\n",
       "                                                cast rating  \\\n",
       "0  João Miguel, Bianca Comparato, Michel Gomes, R...  TV-MA   \n",
       "1  Erdal Beşikçioğlu, Yasemin Allen, Melis Birkan...  TV-MA   \n",
       "2  Robert Więckiewicz, Maciej Musiał, Michalina O...  TV-MA   \n",
       "3                                                     TV-MA   \n",
       "4  Shahd El Yaseen, Shaila Sabt, Hala, Hanadi Al-...  TV-14   \n",
       "\n",
       "                                         description  \\\n",
       "0  In a future where the elite inhabit an island ...   \n",
       "1  A genetics professor experiments with a treatm...   \n",
       "2  In this dark alt-history thriller, a naïve law...   \n",
       "3  Archival video and new interviews examine Mexi...   \n",
       "4  As a psychology professor faces Alzheimer's, h...   \n",
       "\n",
       "                                            combined  \n",
       "0  João Miguel, Bianca Comparato, Michel Gomes, R...  \n",
       "1  Erdal Beşikçioğlu, Yasemin Allen, Melis Birkan...  \n",
       "2  Robert Więckiewicz, Maciej Musiał, Michalina O...  \n",
       "3  Diego Enrique OsornoArchival video and new int...  \n",
       "4  Shahd El Yaseen, Shaila Sabt, Hala, Hanadi Al-...  "
      ]
     },
     "execution_count": 38,
     "metadata": {},
     "output_type": "execute_result"
    }
   ],
   "source": [
    "shows.head()"
   ]
  },
  {
   "cell_type": "code",
   "execution_count": 39,
   "metadata": {},
   "outputs": [],
   "source": [
    "tfv = TfidfVectorizer(min_df = 3,max_features = None,analyzer = 'word',token_pattern = 'r\\w{1,}', ngram_range = (1,3), stop_words = 'english')\n",
    "shows['combined'] = shows['combined'].fillna(\"\")"
   ]
  },
  {
   "cell_type": "code",
   "execution_count": 40,
   "metadata": {},
   "outputs": [
    {
     "name": "stderr",
     "output_type": "stream",
     "text": [
      "C:\\Users\\potea\\anaconda3\\lib\\site-packages\\sklearn\\feature_extraction\\text.py:383: UserWarning: Your stop_words may be inconsistent with your preprocessing. Tokenizing the stop words generated tokens ['ral', 'rd', 'rds', 'ready', 'reafter', 'reas', 'reby', 'red', 'ree', 'refore', 'rehand', 'rein', 'reover', 'rest', 'reupon', 'rever', 'rhaps', 'ribe', 'ring', 'rious', 'rly', 'rmer', 'rmerly', 'rom', 'ront', 'ross', 'rough', 'roughout', 'round', 'rs', 'rself', 'rselves', 'rst', 'rt', 'rtheless', 'rther', 'rty', 'ru', 'rwards', 'rwise', 'ry', 'ryone', 'rything', 'rywhere'] not in stop_words.\n",
      "  warnings.warn('Your stop_words may be inconsistent with '\n"
     ]
    },
    {
     "data": {
      "text/plain": [
       "title\n",
       "3%                          0\n",
       "46                          1\n",
       "1983                        2\n",
       "1994                        3\n",
       "Feb-09                      4\n",
       "                         ... \n",
       "Zindagi Gulzar Hai       2405\n",
       "Zoids Wild               2406\n",
       "Zombie Dumb              2407\n",
       "Zona Rosa                2408\n",
       "Zumbo's Just Desserts    2409\n",
       "Length: 2410, dtype: int64"
      ]
     },
     "execution_count": 40,
     "metadata": {},
     "output_type": "execute_result"
    }
   ],
   "source": [
    "tfv_matrix_shows = tfv.fit_transform(shows['combined'])\n",
    "sig = sigmoid_kernel(tfv_matrix_shows,tfv_matrix_shows)\n",
    "sig[0]\n",
    "indices = pd.Series(shows.index,index = shows['title']).drop_duplicates()\n",
    "indices"
   ]
  },
  {
   "cell_type": "code",
   "execution_count": null,
   "metadata": {},
   "outputs": [],
   "source": []
  },
  {
   "cell_type": "code",
   "execution_count": 41,
   "metadata": {},
   "outputs": [],
   "source": [
    "#Function to recommend TV shows based on watch history using sigmoid kernel\n",
    "def recommend_tv(title,sig=sig):\n",
    "    idx = indices[title]\n",
    "    sig_scores = list(enumerate(sig[idx]))\n",
    "    sig_scores = sorted(sig_scores,key = lambda x:x[1], reverse = True)\n",
    "    sig_scores = sig_scores[1:11]\n",
    "    shows_indices = [i[0] for i in sig_scores]\n",
    "    return shows['title'].iloc[shows_indices]"
   ]
  },
  {
   "cell_type": "code",
   "execution_count": 42,
   "metadata": {},
   "outputs": [
    {
     "data": {
      "text/plain": [
       "706                       Genius of the Modern World\n",
       "418                 Comedians in Cars Getting Coffee\n",
       "1960               The goop lab with Gwyneth Paltrow\n",
       "1221                Melodies of Life - Born This Way\n",
       "959                                       JingleKids\n",
       "1777    Strawberry Shortcake: Berry Bitty Adventures\n",
       "2285                        VeggieTales in the House\n",
       "1640                                         Scandal\n",
       "1279                 Monty Python Best Bits (mostly)\n",
       "1282                    Monty Python's Flying Circus\n",
       "Name: title, dtype: object"
      ]
     },
     "execution_count": 42,
     "metadata": {},
     "output_type": "execute_result"
    }
   ],
   "source": [
    "recommend_tv(\"Friends\")"
   ]
  },
  {
   "cell_type": "code",
   "execution_count": 43,
   "metadata": {},
   "outputs": [
    {
     "data": {
      "text/plain": [
       "1647                   Gangaajal\n",
       "4920                    Time Out\n",
       "2571    Little Singham in London\n",
       "3772                  Satyagraha\n",
       "2459                       Laatu\n",
       "2128              Ishqedarriyaan\n",
       "3705                       Saaho\n",
       "1826                  Haraamkhor\n",
       "925                    Chamatkar\n",
       "2517                        Lens\n",
       "Name: title, dtype: object"
      ]
     },
     "execution_count": 43,
     "metadata": {},
     "output_type": "execute_result"
    }
   ],
   "source": [
    "recommend(\"Crash Landing on You\")"
   ]
  },
  {
   "cell_type": "markdown",
   "metadata": {},
   "source": [
    "<h3> 3. Movie recommendation using linear kernel </h3>"
   ]
  },
  {
   "cell_type": "code",
   "execution_count": 44,
   "metadata": {},
   "outputs": [
    {
     "data": {
      "text/plain": [
       "(5377, 40215)"
      ]
     },
     "execution_count": 44,
     "metadata": {},
     "output_type": "execute_result"
    }
   ],
   "source": [
    "tfidf = TfidfVectorizer(stop_words='english')\n",
    "movies['combined'] = movies['combined'].fillna('')\n",
    "tfidf_matrix = tfidf.fit_transform(movies['combined'])\n",
    "tfidf_matrix.shape"
   ]
  },
  {
   "cell_type": "code",
   "execution_count": 45,
   "metadata": {},
   "outputs": [
    {
     "data": {
      "text/plain": [
       "(5377, 5377)"
      ]
     },
     "execution_count": 45,
     "metadata": {},
     "output_type": "execute_result"
    }
   ],
   "source": [
    "cosine_sim = linear_kernel(tfidf_matrix, tfidf_matrix)\n",
    "cosine_sim.shape"
   ]
  },
  {
   "cell_type": "code",
   "execution_count": 46,
   "metadata": {},
   "outputs": [
    {
     "data": {
      "text/plain": [
       "title\n",
       "7:19                                          0\n",
       "23:59                                         1\n",
       "9                                             2\n",
       "21                                            3\n",
       "122                                           4\n",
       "                                           ... \n",
       "Zoom                                       5372\n",
       "Zozo                                       5373\n",
       "Zubaan                                     5374\n",
       "Zulu Man in Japan                          5375\n",
       "ZZ TOP: THAT LITTLE OL' BAND FROM TEXAS    5376\n",
       "Length: 5377, dtype: int64"
      ]
     },
     "execution_count": 46,
     "metadata": {},
     "output_type": "execute_result"
    }
   ],
   "source": [
    "indices = pd.Series(movies.index, index=movies['title']).drop_duplicates()\n",
    "indices"
   ]
  },
  {
   "cell_type": "code",
   "execution_count": 47,
   "metadata": {},
   "outputs": [],
   "source": [
    "#Function to recommend movies based on watch history using linear kernel\n",
    "def recommendations(title, cosine_sim=cosine_sim):\n",
    "    idx = indices[title]\n",
    "    sim_scores = list(enumerate(cosine_sim[idx]))\n",
    "    sim_scores = sorted(sim_scores, key=lambda x: x[1], reverse=True)\n",
    "    sim_scores = sim_scores[1:11]\n",
    "    movie_indices = [i[0] for i in sim_scores]\n",
    "    return movies['title'].iloc[movie_indices]"
   ]
  },
  {
   "cell_type": "code",
   "execution_count": 48,
   "metadata": {},
   "outputs": [
    {
     "data": {
      "text/plain": [
       "510                                       Baazaar\n",
       "2176                             Jatts in Golmaal\n",
       "4252            The Battered Bastards of Baseball\n",
       "2302                                     Kajraare\n",
       "1435                              Evening Shadows\n",
       "421                       Ankur Arora Murder Case\n",
       "3745                                        Sanju\n",
       "2421    Krish Trish and Baltiboy: Face Your Fears\n",
       "3027                                   My Own Man\n",
       "1640                                         Game\n",
       "Name: title, dtype: object"
      ]
     },
     "execution_count": 48,
     "metadata": {},
     "output_type": "execute_result"
    }
   ],
   "source": [
    "recommendations(\"Zubaan\")"
   ]
  },
  {
   "cell_type": "code",
   "execution_count": 49,
   "metadata": {},
   "outputs": [
    {
     "data": {
      "text/plain": [
       "3399                                         PK\n",
       "2666                               Lust Stories\n",
       "433                                       Anwar\n",
       "4873                            The Zoya Factor\n",
       "1844                       Haseena Maan Jaayegi\n",
       "1222                         Dharam Sankat Mein\n",
       "3378                Phir Bhi Dil Hai Hindustani\n",
       "1259    Do Paise Ki Dhoop Chaar Aane Ki Baarish\n",
       "1001                               Chup Chup Ke\n",
       "1691                          Ghulam-E-Musthafa\n",
       "Name: title, dtype: object"
      ]
     },
     "execution_count": 49,
     "metadata": {},
     "output_type": "execute_result"
    }
   ],
   "source": [
    "recommendations(\"Sanju\")"
   ]
  },
  {
   "cell_type": "markdown",
   "metadata": {},
   "source": [
    "<h3> 4. TV Show recommendation using linear kernel </h3>"
   ]
  },
  {
   "cell_type": "code",
   "execution_count": 50,
   "metadata": {},
   "outputs": [
    {
     "data": {
      "text/plain": [
       "(2410, 23998)"
      ]
     },
     "execution_count": 50,
     "metadata": {},
     "output_type": "execute_result"
    }
   ],
   "source": [
    "tfidf = TfidfVectorizer(stop_words='english')\n",
    "shows['combined'] = shows['combined'].fillna('')\n",
    "tfidf_matrix = tfidf.fit_transform(shows['combined'])\n",
    "tfidf_matrix.shape"
   ]
  },
  {
   "cell_type": "code",
   "execution_count": 51,
   "metadata": {},
   "outputs": [
    {
     "data": {
      "text/plain": [
       "(2410, 2410)"
      ]
     },
     "execution_count": 51,
     "metadata": {},
     "output_type": "execute_result"
    }
   ],
   "source": [
    "cosine_sim = linear_kernel(tfidf_matrix, tfidf_matrix)\n",
    "cosine_sim.shape"
   ]
  },
  {
   "cell_type": "markdown",
   "metadata": {},
   "source": [
    "<h3> Indexing the titles of the movies and TV shows using dataframes </h3>"
   ]
  },
  {
   "cell_type": "code",
   "execution_count": 52,
   "metadata": {},
   "outputs": [
    {
     "data": {
      "text/plain": [
       "title\n",
       "3%                          0\n",
       "46                          1\n",
       "1983                        2\n",
       "1994                        3\n",
       "Feb-09                      4\n",
       "                         ... \n",
       "Zindagi Gulzar Hai       2405\n",
       "Zoids Wild               2406\n",
       "Zombie Dumb              2407\n",
       "Zona Rosa                2408\n",
       "Zumbo's Just Desserts    2409\n",
       "Length: 2410, dtype: int64"
      ]
     },
     "execution_count": 52,
     "metadata": {},
     "output_type": "execute_result"
    }
   ],
   "source": [
    "indices = pd.Series(shows.index, index=shows['title']).drop_duplicates()\n",
    "indices"
   ]
  },
  {
   "cell_type": "code",
   "execution_count": 53,
   "metadata": {},
   "outputs": [],
   "source": [
    "#Function to recommend TV shows based on watch history using linear kernel\n",
    "def recommendations_tv_new(title, cosine_sim=cosine_sim):\n",
    "    idx = indices[title]\n",
    "    sim_scores = list(enumerate(cosine_sim[idx]))\n",
    "    sim_scores = sorted(sim_scores, key=lambda x: x[1], reverse=True)\n",
    "    sim_scores = sim_scores[1:11]\n",
    "    shows_indices = [i[0] for i in sim_scores]\n",
    "    return shows['title'].iloc[shows_indices]\n"
   ]
  },
  {
   "cell_type": "code",
   "execution_count": 54,
   "metadata": {},
   "outputs": [
    {
     "data": {
      "text/plain": [
       "598                  Episodes\n",
       "1182          Man with a Plan\n",
       "1092               Life Story\n",
       "260           BoJack Horseman\n",
       "447            Criminal Minds\n",
       "959                JingleKids\n",
       "752               Gossip Girl\n",
       "248             Blood of Zeus\n",
       "524     Dinotrux Supercharged\n",
       "516                 Diagnosis\n",
       "Name: title, dtype: object"
      ]
     },
     "execution_count": 54,
     "metadata": {},
     "output_type": "execute_result"
    }
   ],
   "source": [
    "recommendations_tv_new(\"Friends\")"
   ]
  },
  {
   "cell_type": "code",
   "execution_count": 55,
   "metadata": {},
   "outputs": [
    {
     "data": {
      "text/plain": [
       "435     Crash Landing on You\n",
       "2313            Was It Love?\n",
       "2030         The Lies Within\n",
       "1649           Secret Affair\n",
       "911               Inheritors\n",
       "933                     Iris\n",
       "862        Hospital Playlist\n",
       "1614                  Run On\n",
       "164      Bad Guys: Vile City\n",
       "878                    Hyena\n",
       "Name: title, dtype: object"
      ]
     },
     "execution_count": 55,
     "metadata": {},
     "output_type": "execute_result"
    }
   ],
   "source": [
    "recommendations_tv_new(\"It's Okay to Not Be Okay\")"
   ]
  },
  {
   "cell_type": "code",
   "execution_count": 56,
   "metadata": {},
   "outputs": [
    {
     "data": {
      "text/plain": [
       "212                Better Call Saul\n",
       "2301                 W/ Bob & David\n",
       "37              A Lion in the House\n",
       "529                      Disjointed\n",
       "877     Huntik: Secrets and Seekers\n",
       "670         Food: Delicious Science\n",
       "83                    Alexa & Katie\n",
       "1570                    Refresh Man\n",
       "373             Chill with Bob Ross\n",
       "1664          Servant of the People\n",
       "Name: title, dtype: object"
      ]
     },
     "execution_count": 56,
     "metadata": {},
     "output_type": "execute_result"
    }
   ],
   "source": [
    "recommendations_tv_new(\"Breaking Bad\")"
   ]
  },
  {
   "cell_type": "code",
   "execution_count": 57,
   "metadata": {},
   "outputs": [
    {
     "data": {
      "text/plain": [
       "2355               Wild District\n",
       "576                    El Cartel\n",
       "562           Dueños del paraíso\n",
       "1966             The Great Heist\n",
       "1341              Narcos: Mexico\n",
       "1045            La Reina del Sur\n",
       "1260               Miss Dynamite\n",
       "1153    Luis Miguel - The Series\n",
       "1043                   La Piloto\n",
       "1693    Sin Senos sí Hay Paraíso\n",
       "Name: title, dtype: object"
      ]
     },
     "execution_count": 57,
     "metadata": {},
     "output_type": "execute_result"
    }
   ],
   "source": [
    "recommendations_tv_new(\"Narcos\")"
   ]
  },
  {
   "cell_type": "code",
   "execution_count": 58,
   "metadata": {},
   "outputs": [
    {
     "data": {
      "text/plain": [
       "715                 GHOUL\n",
       "1819       Taj Mahal 1989\n",
       "2123    The Truth Seekers\n",
       "501           Delhi Crime\n",
       "25              7 (Seven)\n",
       "999         Khotey Sikkey\n",
       "799        Hashoter Hatov\n",
       "874              Humsafar\n",
       "996                Khaani\n",
       "2005          The Keepers\n",
       "Name: title, dtype: object"
      ]
     },
     "execution_count": 58,
     "metadata": {},
     "output_type": "execute_result"
    }
   ],
   "source": [
    "recommendations_tv_new(\"Sacred Games\")"
   ]
  },
  {
   "cell_type": "code",
   "execution_count": 59,
   "metadata": {},
   "outputs": [
    {
     "data": {
      "text/plain": [
       "2172                        Til Death Do Us Part\n",
       "1886                                  The Chalet\n",
       "224                                Bibik-Bibikku\n",
       "850     Holiday Home Makeover with Mr. Christmas\n",
       "1770                                   Stone Age\n",
       "1252                                   Mini Wolf\n",
       "1878                                   The Break\n",
       "1432                            P. King Duckling\n",
       "1249                                   Mind Game\n",
       "2165                                   Tidelands\n",
       "Name: title, dtype: object"
      ]
     },
     "execution_count": 59,
     "metadata": {},
     "output_type": "execute_result"
    }
   ],
   "source": [
    "recommendations_tv_new('The Hook Up Plan')"
   ]
  },
  {
   "cell_type": "markdown",
   "metadata": {},
   "source": [
    "<h3> Thus, the recommendation using linear kernel works better than using sigmoid kernel</h3>"
   ]
  }
 ],
 "metadata": {
  "kernelspec": {
   "display_name": "Python 3",
   "language": "python",
   "name": "python3"
  },
  "language_info": {
   "codemirror_mode": {
    "name": "ipython",
    "version": 3
   },
   "file_extension": ".py",
   "mimetype": "text/x-python",
   "name": "python",
   "nbconvert_exporter": "python",
   "pygments_lexer": "ipython3",
   "version": "3.8.5"
  }
 },
 "nbformat": 4,
 "nbformat_minor": 4
}
